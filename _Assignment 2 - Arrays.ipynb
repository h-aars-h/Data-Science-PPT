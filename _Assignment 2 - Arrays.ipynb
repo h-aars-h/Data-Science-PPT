{
 "cells": [
  {
   "cell_type": "code",
   "execution_count": 1,
   "id": "7a5b4acc-b61a-4975-a7af-4e2a274717d9",
   "metadata": {},
   "outputs": [],
   "source": [
    "# <aside>\n",
    "# 💡 **Question 1**\n",
    "# Given an integer array nums of 2n integers, group these integers into n pairs (a1, b1), (a2, b2),..., (an, bn) such that the sum of min(ai, bi) for all i is maximized. Return the maximized sum.\n",
    "\n",
    "# **Example 1:**\n",
    "# Input: nums = [1,4,3,2]\n",
    "# Output: 4\n",
    "\n",
    "# **Explanation:** All possible pairings (ignoring the ordering of elements) are:\n",
    "\n",
    "# 1. (1, 4), (2, 3) -> min(1, 4) + min(2, 3) = 1 + 2 = 3\n",
    "# 2. (1, 3), (2, 4) -> min(1, 3) + min(2, 4) = 1 + 2 = 3\n",
    "# 3. (1, 2), (3, 4) -> min(1, 2) + min(3, 4) = 1 + 3 = 4\n",
    "# So the maximum possible sum is 4\n",
    "# </aside>"
   ]
  },
  {
   "cell_type": "code",
   "execution_count": 2,
   "id": "02127a79-b577-48a3-abcd-a390f744acaa",
   "metadata": {},
   "outputs": [
    {
     "name": "stdout",
     "output_type": "stream",
     "text": [
      "4\n"
     ]
    }
   ],
   "source": [
    "def arrayPairSum(nums):\n",
    "    nums.sort()\n",
    "    max_sum = 0\n",
    "    for i in range(0, len(nums), 2):\n",
    "        max_sum += nums[i]\n",
    "    return max_sum\n",
    "\n",
    "# Example usage:\n",
    "nums = [1, 4, 3, 2]\n",
    "result = arrayPairSum(nums)\n",
    "print(result)  # Output: 4\n"
   ]
  },
  {
   "cell_type": "code",
   "execution_count": 3,
   "id": "dd9949f3-d4c4-46e6-866a-fea049cbcbbb",
   "metadata": {},
   "outputs": [],
   "source": [
    "# Question 2\n",
    "# Alice has n candies, where the ith candy is of type candyType[i]. Alice noticed that she started to gain weight, so she visited a doctor. \n",
    "\n",
    "# The doctor advised Alice to only eat n / 2 of the candies she has (n is always even). Alice likes her candies very much, and she wants to eat the maximum number of different types of candies while still following the doctor's advice. \n",
    "\n",
    "# Given the integer array candyType of length n, return the maximum number of different types of candies she can eat if she only eats n / 2 of them.\n",
    "\n",
    "# Example 1:\n",
    "# Input: candyType = [1,1,2,2,3,3]\n",
    "# Output: 3"
   ]
  },
  {
   "cell_type": "code",
   "execution_count": 5,
   "id": "59c78343-a53d-43d9-a7ae-9ade5928f09f",
   "metadata": {},
   "outputs": [
    {
     "name": "stdout",
     "output_type": "stream",
     "text": [
      "3\n"
     ]
    }
   ],
   "source": [
    "def distributeCandies(candyType):\n",
    "    uniqueCandies = set()\n",
    "    maxCandies = len(candyType) // 2\n",
    "\n",
    "    for candy in candyType:\n",
    "        uniqueCandies.add(candy)\n",
    "        if len(uniqueCandies) == maxCandies:\n",
    "            break\n",
    "\n",
    "    return len(uniqueCandies)\n",
    "\n",
    "# Example usage:\n",
    "candyType = [1, 1, 2, 2, 3, 3]\n",
    "result = distributeCandies(candyType)\n",
    "print(result)  # Output: 3\n"
   ]
  },
  {
   "cell_type": "code",
   "execution_count": null,
   "id": "d9fb5d38-52d8-439c-865c-9dcc41ecef28",
   "metadata": {},
   "outputs": [],
   "source": [
    "# Question 3\n",
    "# We define a harmonious array as an array where the difference between its maximum value\n",
    "# and its minimum value is exactly 1.\n",
    "\n",
    "# Given an integer array nums, return the length of its longest harmonious subsequence\n",
    "# among all its possible subsequences.\n",
    "\n",
    "# A subsequence of an array is a sequence that can be derived from the array by deleting some or no elements without changing the order of the remaining elements.\n",
    "\n",
    "# Example 1:\n",
    "# Input: nums = [1,3,2,2,5,2,3,7]\n",
    "# Output: 5\n",
    "\n",
    "# Explanation: The longest harmonious subsequence is [3,2,2,2,3]."
   ]
  },
  {
   "cell_type": "code",
   "execution_count": 4,
   "id": "85a6f626-e226-4d12-b951-43eb6e5d941b",
   "metadata": {},
   "outputs": [
    {
     "name": "stdout",
     "output_type": "stream",
     "text": [
      "5\n"
     ]
    }
   ],
   "source": [
    "def findLHS(nums):\n",
    "    numFreq = {}\n",
    "    for num in nums:\n",
    "        numFreq[num] = numFreq.get(num, 0) + 1\n",
    "\n",
    "    maxLen = 0\n",
    "    for num in numFreq:\n",
    "        if num + 1 in numFreq:\n",
    "            maxLen = max(maxLen, numFreq[num] + numFreq[num + 1])\n",
    "\n",
    "    return maxLen\n",
    "\n",
    "# Example usage:\n",
    "nums = [1, 3, 2, 2, 5, 2, 3, 7]\n",
    "result = findLHS(nums)\n",
    "print(result)  # Output: 5\n"
   ]
  },
  {
   "cell_type": "code",
   "execution_count": 7,
   "id": "8844253b-4d5b-445d-834e-3c2897d024e4",
   "metadata": {},
   "outputs": [],
   "source": [
    "# Question 4\n",
    "# You have a long flowerbed in which some of the plots are planted, and some are not.\n",
    "# However, flowers cannot be planted in adjacent plots.\n",
    "# Given an integer array flowerbed containing 0's and 1's, where 0 means empty and 1 means not empty, and an integer n, return true if n new flowers can be planted in the flowerbed without violating the no-adjacent-flowers rule and false otherwise.\n",
    "\n",
    "# Example 1:\n",
    "# Input: flowerbed = [1,0,0,0,1], n = 1\n",
    "# Output: true"
   ]
  },
  {
   "cell_type": "code",
   "execution_count": 6,
   "id": "c26dfc1b-eee9-4d6d-b093-f021a7310b34",
   "metadata": {},
   "outputs": [
    {
     "name": "stdout",
     "output_type": "stream",
     "text": [
      "True\n"
     ]
    }
   ],
   "source": [
    "def canPlaceFlowers(flowerbed, n):\n",
    "    count = 0\n",
    "    length = len(flowerbed)\n",
    "    \n",
    "    for i in range(length):\n",
    "        if flowerbed[i] == 0 and (i == 0 or flowerbed[i - 1] == 0) and (i == length - 1 or flowerbed[i + 1] == 0):\n",
    "            flowerbed[i] = 1\n",
    "            count += 1\n",
    "            if count >= n:\n",
    "                return True\n",
    "    \n",
    "    return False\n",
    "\n",
    "# Example usage:\n",
    "flowerbed = [1, 0, 0, 0, 1]\n",
    "n = 1\n",
    "result = canPlaceFlowers(flowerbed, n)\n",
    "print(result)  # Output: True\n"
   ]
  },
  {
   "cell_type": "code",
   "execution_count": 9,
   "id": "2b06e8e8-5e72-4d7e-88c3-c175e53007ad",
   "metadata": {},
   "outputs": [],
   "source": [
    "# Question 5\n",
    "# Given an integer array nums, find three numbers whose product is maximum and return the maximum product.\n",
    "\n",
    "# Example 1:\n",
    "# Input: nums = [1,2,3]\n",
    "# Output: 6"
   ]
  },
  {
   "cell_type": "code",
   "execution_count": 11,
   "id": "fd79b42a-2a7b-4212-9852-7829e5317a0c",
   "metadata": {},
   "outputs": [
    {
     "name": "stdout",
     "output_type": "stream",
     "text": [
      "6\n"
     ]
    }
   ],
   "source": [
    "def max_product_of_three(nums):\n",
    "  \"\"\"\n",
    "  Finds the maximum product of three numbers in the array.\n",
    "\n",
    "  Args:\n",
    "    nums: The array of integers.\n",
    "\n",
    "  Returns:\n",
    "    The maximum product of three numbers.\n",
    "  \"\"\"\n",
    "\n",
    "  nums.sort()\n",
    "  max_product = nums[-1] * nums[-2] * nums[-3]\n",
    "  if nums[0] * nums[1] * nums[-1] > max_product:\n",
    "    max_product = nums[0] * nums[1] * nums[-1]\n",
    "\n",
    "  return max_product\n",
    "\n",
    "\n",
    "def main():\n",
    "  nums = [1, 2, 3]\n",
    "  max_product = max_product_of_three(nums)\n",
    "  print(max_product)\n",
    "\n",
    "\n",
    "if __name__ == \"__main__\":main()\n"
   ]
  },
  {
   "cell_type": "code",
   "execution_count": 12,
   "id": "814c5199-97f9-4eec-ad8c-3a8142b3d112",
   "metadata": {},
   "outputs": [],
   "source": [
    "# Question 6\n",
    "# Given an array of integers nums which is sorted in ascending order, and an integer target,\n",
    "# write a function to search target in nums. If target exists, then return its index. Otherwise,\n",
    "# return -1.\n",
    "\n",
    "# You must write an algorithm with O(log n) runtime complexity.\n",
    "\n",
    "# Input: nums = [-1,0,3,5,9,12], target = 9\n",
    "# Output: 4\n",
    "\n",
    "# Explanation: 9 exists in nums and its index is 4"
   ]
  },
  {
   "cell_type": "code",
   "execution_count": 13,
   "id": "c6e64ab0-0bb6-49a8-92cf-a41636cb6efb",
   "metadata": {},
   "outputs": [
    {
     "name": "stdout",
     "output_type": "stream",
     "text": [
      "4\n"
     ]
    }
   ],
   "source": [
    "def search(nums, target):\n",
    "    left = 0\n",
    "    right = len(nums) - 1\n",
    "\n",
    "    while left <= right:\n",
    "        mid = (left + right) // 2\n",
    "\n",
    "        if nums[mid] == target:\n",
    "            return mid\n",
    "        elif nums[mid] < target:\n",
    "            left = mid + 1\n",
    "        else:\n",
    "            right = mid - 1\n",
    "\n",
    "    return -1\n",
    "\n",
    "# Example usage:\n",
    "nums = [-1, 0, 3, 5, 9, 12]\n",
    "target = 9\n",
    "index = search(nums, target)\n",
    "print(index)  # Output: 4\n"
   ]
  },
  {
   "cell_type": "code",
   "execution_count": 15,
   "id": "6244821d-72c5-49c3-b0e8-b6163a4f4542",
   "metadata": {},
   "outputs": [],
   "source": [
    "# Question 7\n",
    "# An array is monotonic if it is either monotone increasing or monotone decreasing.\n",
    "\n",
    "# An array nums is monotone increasing if for all i <= j, nums[i] <= nums[j]. An array nums is\n",
    "# monotone decreasing if for all i <= j, nums[i] >= nums[j].\n",
    "\n",
    "# Given an integer array nums, return true if the given array is monotonic, or false otherwise.\n",
    "\n",
    "# Example 1:\n",
    "# Input: nums = [1,2,2,3]\n",
    "# Output: true"
   ]
  },
  {
   "cell_type": "code",
   "execution_count": 14,
   "id": "947baaea-0b31-4949-b1bd-9e04c5a6f149",
   "metadata": {},
   "outputs": [
    {
     "name": "stdout",
     "output_type": "stream",
     "text": [
      "True\n"
     ]
    }
   ],
   "source": [
    "def isMonotonic(nums):\n",
    "    isIncreasing = True\n",
    "    isDecreasing = True\n",
    "\n",
    "    for i in range(1, len(nums)):\n",
    "        if nums[i] > nums[i - 1]:\n",
    "            isDecreasing = False\n",
    "        elif nums[i] < nums[i - 1]:\n",
    "            isIncreasing = False\n",
    "\n",
    "    return isIncreasing or isDecreasing\n",
    "\n",
    "# Example usage:\n",
    "nums = [1, 2, 2, 3]\n",
    "result = isMonotonic(nums)\n",
    "print(result)  # Output: True\n"
   ]
  },
  {
   "cell_type": "code",
   "execution_count": null,
   "id": "5f716f72-c7d4-4c47-92fa-110b2cbf45aa",
   "metadata": {},
   "outputs": [],
   "source": []
  }
 ],
 "metadata": {
  "kernelspec": {
   "display_name": "Python 3 (ipykernel)",
   "language": "python",
   "name": "python3"
  },
  "language_info": {
   "codemirror_mode": {
    "name": "ipython",
    "version": 3
   },
   "file_extension": ".py",
   "mimetype": "text/x-python",
   "name": "python",
   "nbconvert_exporter": "python",
   "pygments_lexer": "ipython3",
   "version": "3.10.6"
  }
 },
 "nbformat": 4,
 "nbformat_minor": 5
}
