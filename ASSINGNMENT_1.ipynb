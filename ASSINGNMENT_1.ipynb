{
 "cells": [
  {
   "cell_type": "markdown",
   "id": "373aa677-4234-4f91-a769-a0e8265af1fe",
   "metadata": {},
   "source": [
    "# 1. Write a Python program to reverse a string without using any built-in string reversal functions."
   ]
  },
  {
   "cell_type": "code",
   "execution_count": 1,
   "id": "68e6e9df-49e1-49c3-aca9-4f0aa1f023dd",
   "metadata": {},
   "outputs": [
    {
     "name": "stdout",
     "output_type": "stream",
     "text": [
      "hsraH\n"
     ]
    }
   ],
   "source": [
    "name='Harsh'\n",
    "print(name[::-1])"
   ]
  },
  {
   "cell_type": "markdown",
   "id": "6e385660-82fd-4a3e-9432-6e713780bd4d",
   "metadata": {},
   "source": [
    "# 2. Implement a function to check if a given string is a palindrome. \n"
   ]
  },
  {
   "cell_type": "code",
   "execution_count": 2,
   "id": "88f10e7e-d2a5-4432-b0b0-cdb319dba4fd",
   "metadata": {},
   "outputs": [
    {
     "name": "stdout",
     "output_type": "stream",
     "text": [
      "this Element is  Palindrome\n"
     ]
    }
   ],
   "source": [
    "# val='hello'\n",
    "# reverse=val[::-1]\n",
    "# if val==reverse:\n",
    "#     print('This ')\n",
    "def pelindrome_check_element(element):\n",
    "    reverse=element[::-1]\n",
    "    if element==reverse:\n",
    "        print('this Element is  Palindrome')\n",
    "    else:\n",
    "        print('this Element is not Palindrome')\n",
    "value='121'\n",
    "pelindrome_check_element(value)"
   ]
  },
  {
   "cell_type": "markdown",
   "id": "5963d5c8-8f38-47fb-8e7d-af6f210713ac",
   "metadata": {},
   "source": [
    "# 3. Write a program to find the largest element in a given list."
   ]
  },
  {
   "cell_type": "code",
   "execution_count": 3,
   "id": "6dfb28fe-c6d2-4ad8-9743-d0a2a9b105cd",
   "metadata": {},
   "outputs": [
    {
     "name": "stdout",
     "output_type": "stream",
     "text": [
      "This is the largest element in list 7\n"
     ]
    }
   ],
   "source": [
    "my_list=[1,2,3,4,5,6,7]\n",
    "def my_largest(x):\n",
    "    print('This is the largest element in list',max(x))\n",
    "my_largest(my_list) "
   ]
  },
  {
   "cell_type": "markdown",
   "id": "7c9f7542-e189-4a59-8372-b838f537000b",
   "metadata": {},
   "source": [
    "# 4. Implement a function to count the occurrence of each element in a list.\n"
   ]
  },
  {
   "cell_type": "code",
   "execution_count": 4,
   "id": "671671b4-88f1-4a6d-a98b-9995b4008168",
   "metadata": {},
   "outputs": [
    {
     "name": "stdout",
     "output_type": "stream",
     "text": [
      "Occurrence Counts: {1: 2, 2: 3, 3: 2, 4: 2, 5: 1}\n"
     ]
    }
   ],
   "source": [
    "def count_occurrences(lst):\n",
    "    count_dict = {}\n",
    "\n",
    "    for element in lst:\n",
    "        if element in count_dict:\n",
    "            count_dict[element] += 1\n",
    "        else:\n",
    "            count_dict[element] = 1\n",
    "\n",
    "    return count_dict\n",
    "\n",
    "# Example usage:\n",
    "numbers = [1, 2, 3, 2, 4, 1, 3, 4, 2, 5]\n",
    "occurrence_counts = count_occurrences(numbers)\n",
    "print(\"Occurrence Counts:\", occurrence_counts)\n"
   ]
  },
  {
   "cell_type": "markdown",
   "id": "88bc8ecc-c5b2-46af-9a45-c8459c7408d2",
   "metadata": {},
   "source": [
    "# 5. Write a Python program to find the second largest number in a list.\n"
   ]
  },
  {
   "cell_type": "code",
   "execution_count": 5,
   "id": "8d4d9d36-2991-47a3-9808-77bbcb1dfed0",
   "metadata": {},
   "outputs": [
    {
     "data": {
      "text/plain": [
       "('this is my second largest Number', 42)"
      ]
     },
     "execution_count": 5,
     "metadata": {},
     "output_type": "execute_result"
    }
   ],
   "source": [
    "def Second_largest_no(number):\n",
    "    if len(number)<2:\n",
    "        return None\n",
    "    number=sorted(number,reverse=True)\n",
    "    return('this is my second largest Number',number[1])\n",
    "myl1=[12,23,34,42,46,13]\n",
    "Second_largest_no(myl1)"
   ]
  },
  {
   "cell_type": "markdown",
   "id": "937d1416-e2b4-4cb1-8ff0-8348490a4cf0",
   "metadata": {},
   "source": [
    "# 6. Implement a function to remove duplicate elements from a list."
   ]
  },
  {
   "cell_type": "code",
   "execution_count": 6,
   "id": "77a6a72d-a4d5-4888-8fbf-3c43a14e162c",
   "metadata": {},
   "outputs": [
    {
     "name": "stdout",
     "output_type": "stream",
     "text": [
      "[1, 2, 3, 4, 5]\n"
     ]
    }
   ],
   "source": [
    "Mylist_2=[1,2,3,4,5,5]\n",
    "def remove_duplicates(my_list):\n",
    "    return list(set(my_list))\n",
    "print(remove_duplicates(Mylist_2))\n"
   ]
  },
  {
   "cell_type": "markdown",
   "id": "6f927e82-5d49-401e-b0e6-511c6988abfa",
   "metadata": {
    "tags": []
   },
   "source": [
    "# 7. Write a program to calculate the factorial of a given number."
   ]
  },
  {
   "cell_type": "code",
   "execution_count": 7,
   "id": "ffb80d4e-cb34-46e3-b284-89fc89fbbf2e",
   "metadata": {},
   "outputs": [
    {
     "name": "stdout",
     "output_type": "stream",
     "text": [
      "1\n",
      "2\n",
      "3\n",
      "4\n",
      "5\n",
      "6\n",
      "7\n",
      "8\n",
      "9\n"
     ]
    }
   ],
   "source": [
    "for i in range(1,10):\n",
    "    print(i)\n",
    "    i=i+1"
   ]
  },
  {
   "cell_type": "markdown",
   "id": "bab1247c-7ffd-4323-8d1e-2bd4819bce49",
   "metadata": {},
   "source": [
    "# 8. Implement a function to check if a given number is prime"
   ]
  },
  {
   "cell_type": "code",
   "execution_count": 8,
   "id": "a0dea35e-f21f-459f-9a27-9637c9efb962",
   "metadata": {},
   "outputs": [
    {
     "name": "stdout",
     "output_type": "stream",
     "text": [
      "False\n",
      "True\n"
     ]
    }
   ],
   "source": [
    "def is_prime(n):\n",
    "    if n <= 1:\n",
    "        return False\n",
    "    for i in range(2, int(n ** 0.5) + 1):\n",
    "        if n % i == 0:\n",
    "            return False\n",
    "    return True\n",
    "print(is_prime(24))\n",
    "print(is_prime(23))"
   ]
  },
  {
   "cell_type": "markdown",
   "id": "419ca3ed-a2a9-41ce-a53c-0b4203afe6b3",
   "metadata": {},
   "source": [
    "# 9. Write a Python program to sort a list of integers in ascending order."
   ]
  },
  {
   "cell_type": "code",
   "execution_count": 9,
   "id": "ddc3f29d-2c63-4d46-8248-d96c12e01793",
   "metadata": {},
   "outputs": [
    {
     "data": {
      "text/plain": [
       "[1, 2, 3, 4, 5, 6, 7]"
      ]
     },
     "execution_count": 9,
     "metadata": {},
     "output_type": "execute_result"
    }
   ],
   "source": [
    "my_list"
   ]
  },
  {
   "cell_type": "code",
   "execution_count": 10,
   "id": "d85aab97-68f1-4bba-89be-9be66418b229",
   "metadata": {},
   "outputs": [],
   "source": [
    "my_list[1]=9"
   ]
  },
  {
   "cell_type": "code",
   "execution_count": 11,
   "id": "37533b7c-7e2b-429e-812b-fb17813b32f0",
   "metadata": {},
   "outputs": [
    {
     "data": {
      "text/plain": [
       "[1, 9, 3, 4, 5, 6, 7]"
      ]
     },
     "execution_count": 11,
     "metadata": {},
     "output_type": "execute_result"
    }
   ],
   "source": [
    "my_list"
   ]
  },
  {
   "cell_type": "code",
   "execution_count": 12,
   "id": "321262c3-95cc-4d84-9ff7-f249595475f1",
   "metadata": {},
   "outputs": [],
   "source": [
    "my_list.sort()"
   ]
  },
  {
   "cell_type": "code",
   "execution_count": 13,
   "id": "7eae32e6-afbe-4f23-8a9f-72c517e3e9a0",
   "metadata": {},
   "outputs": [
    {
     "data": {
      "text/plain": [
       "[1, 3, 4, 5, 6, 7, 9]"
      ]
     },
     "execution_count": 13,
     "metadata": {},
     "output_type": "execute_result"
    }
   ],
   "source": [
    "my_list"
   ]
  },
  {
   "cell_type": "markdown",
   "id": "69dce13d-6bac-47b9-bf8b-192d99ac7835",
   "metadata": {},
   "source": [
    "# 10. Implement a function to find the sum of all numbers in a list."
   ]
  },
  {
   "cell_type": "code",
   "execution_count": 14,
   "id": "a3560379-81fb-4925-94d6-d79a84c7da95",
   "metadata": {},
   "outputs": [
    {
     "data": {
      "text/plain": [
       "35"
      ]
     },
     "execution_count": 14,
     "metadata": {},
     "output_type": "execute_result"
    }
   ],
   "source": [
    "sum(my_list)"
   ]
  },
  {
   "cell_type": "markdown",
   "id": "166f2c4e-2c10-471e-9df2-c713fa386854",
   "metadata": {},
   "source": [
    "# 11. Write a program to find the common elements between two lists."
   ]
  },
  {
   "cell_type": "code",
   "execution_count": 15,
   "id": "769c2017-26cd-44e6-a6a5-6b52fc04d4ac",
   "metadata": {},
   "outputs": [
    {
     "data": {
      "text/plain": [
       "[2, 5]"
      ]
     },
     "execution_count": 15,
     "metadata": {},
     "output_type": "execute_result"
    }
   ],
   "source": [
    "mylist2=[1,2,3,4,5]\n",
    "mylist3=[2,5,6,8]\n",
    "def common_element(x,y):\n",
    "    newlist=[]\n",
    "    for i in x:\n",
    "        if i in y:\n",
    "            newlist.append(i)\n",
    "    return(newlist)\n",
    "            \n",
    "            \n",
    "                \n",
    "common_element(mylist2,mylist3)        "
   ]
  },
  {
   "cell_type": "markdown",
   "id": "d8baefe8-7812-4414-9ba9-393c90e09570",
   "metadata": {},
   "source": [
    "# 12. Implement a function to check if a given string is an anagram of another string."
   ]
  },
  {
   "cell_type": "code",
   "execution_count": 16,
   "id": "ee1a4170-15b3-4b95-a3b2-9b380b3cff13",
   "metadata": {},
   "outputs": [],
   "source": [
    "def is_anagram(string1, string2):\n",
    "    # Remove whitespace and convert both strings to lowercase\n",
    "    string1 = string1.replace(\" \", \"\").lower()\n",
    "    string2 = string2.replace(\" \", \"\").lower()\n",
    "    \n",
    "    # Sort the characters in both strings\n",
    "    sorted_string1 = sorted(string1)\n",
    "    sorted_string2 = sorted(string2)\n",
    "    \n",
    "    # Compare the sorted strings\n",
    "    return sorted_string1 == sorted_string2\n"
   ]
  },
  {
   "cell_type": "code",
   "execution_count": 17,
   "id": "c80d607a-1f59-4791-ab8e-41bfc7cd48ee",
   "metadata": {},
   "outputs": [
    {
     "name": "stdout",
     "output_type": "stream",
     "text": [
      "True\n",
      "False\n"
     ]
    }
   ],
   "source": [
    "string1 = \"listen\"\n",
    "string2 = \"silent\"\n",
    "print(is_anagram(string1, string2))  # Output: True\n",
    "\n",
    "string3 = \"hello\"\n",
    "string4 = \"world\"\n",
    "print(is_anagram(string3, string4))  # Output: False\n"
   ]
  },
  {
   "cell_type": "markdown",
   "id": "33b5a4f9-86d8-4d5c-b0af-80da6a1396d9",
   "metadata": {},
   "source": [
    "# 13. Write a Python program to generate all permutations of a given string."
   ]
  },
  {
   "cell_type": "code",
   "execution_count": 18,
   "id": "4b1f5830-6658-4d9b-9b13-daa286da924d",
   "metadata": {},
   "outputs": [],
   "source": [
    "myl='harshkumar'"
   ]
  },
  {
   "cell_type": "code",
   "execution_count": 19,
   "id": "e8d9ce95-8067-4053-aa00-efac0e6554c2",
   "metadata": {},
   "outputs": [
    {
     "data": {
      "text/plain": [
       "'harshkuma'"
      ]
     },
     "execution_count": 19,
     "metadata": {},
     "output_type": "execute_result"
    }
   ],
   "source": [
    "myl[:-1]"
   ]
  },
  {
   "cell_type": "markdown",
   "id": "abf111c3-df9c-4892-acca-b0bff29c5b19",
   "metadata": {},
   "source": [
    "# 14. Implement a function to calculate the Fibonacci sequence up to a given number of terms"
   ]
  },
  {
   "cell_type": "code",
   "execution_count": 20,
   "id": "ec32077c-2fb8-47e7-b2a7-fbaf7c66a50b",
   "metadata": {},
   "outputs": [
    {
     "name": "stdout",
     "output_type": "stream",
     "text": [
      "Fibonacci Sequence: [0, 1, 1, 2, 3, 5, 8, 13, 21, 34]\n"
     ]
    }
   ],
   "source": [
    "def fibonacci_sequence(n):\n",
    "    sequence = [0, 1]  # Initialize the sequence with the first two terms\n",
    "\n",
    "    if n <= 2:\n",
    "        return sequence[:n]  # Return the sequence with n terms if n is 1 or 2\n",
    "\n",
    "    while len(sequence) < n:\n",
    "        next_number = sequence[-1] + sequence[-2]\n",
    "        sequence.append(next_number)\n",
    "\n",
    "    return sequence\n",
    "\n",
    "# Example usage:\n",
    "num_terms = 10\n",
    "fib_sequence = fibonacci_sequence(num_terms)\n",
    "print(\"Fibonacci Sequence:\", fib_sequence)\n"
   ]
  },
  {
   "cell_type": "markdown",
   "id": "2cddda73-e826-4a39-87ae-868823db4b44",
   "metadata": {},
   "source": [
    "# 15. Write a program to find the median of a list of numbers."
   ]
  },
  {
   "cell_type": "code",
   "execution_count": 21,
   "id": "122d0b6d-f31f-4e91-aaa1-f2a3a949b01b",
   "metadata": {},
   "outputs": [],
   "source": [
    "my_list_3=[2,4,5,6,7,8,5]"
   ]
  },
  {
   "cell_type": "code",
   "execution_count": 22,
   "id": "89207b3b-4a1a-4cd5-99bd-8eaadd783c3c",
   "metadata": {},
   "outputs": [],
   "source": [
    "def find_median(my_list):\n",
    "    n=int((len(my_list))/2)\n",
    "    return(\"the median of a list of numbers is \", my_list[n])"
   ]
  },
  {
   "cell_type": "code",
   "execution_count": 23,
   "id": "8ee08270-681a-401a-933b-43252af358a0",
   "metadata": {},
   "outputs": [
    {
     "data": {
      "text/plain": [
       "('the median of a list of numbers is ', 6)"
      ]
     },
     "execution_count": 23,
     "metadata": {},
     "output_type": "execute_result"
    }
   ],
   "source": [
    "find_median(my_list_3)"
   ]
  },
  {
   "cell_type": "markdown",
   "id": "5c38ec05-a196-40ad-991d-129921ffa0e1",
   "metadata": {},
   "source": [
    "# 16. Implement a function to check if a given list is sorted in non-decreasing order."
   ]
  },
  {
   "cell_type": "code",
   "execution_count": 24,
   "id": "d8bdebce-8ef0-4ff0-a8de-5100b758aeeb",
   "metadata": {},
   "outputs": [],
   "source": [
    "def is_sorted(arr):\n",
    "    for i in range(len(arr) - 1):\n",
    "        if arr[i] > arr[i + 1]:\n",
    "            return False\n",
    "    return True\n"
   ]
  },
  {
   "cell_type": "code",
   "execution_count": 25,
   "id": "ee9760e4-c5df-479e-a885-f7ab82e6fab6",
   "metadata": {},
   "outputs": [
    {
     "data": {
      "text/plain": [
       "True"
      ]
     },
     "execution_count": 25,
     "metadata": {},
     "output_type": "execute_result"
    }
   ],
   "source": [
    "is_sorted(my_list)"
   ]
  },
  {
   "cell_type": "markdown",
   "id": "e26749b3-5984-46d0-9d8f-a72fb61da90e",
   "metadata": {},
   "source": [
    "# 17. Write a Python program to find the intersection of two lists"
   ]
  },
  {
   "cell_type": "code",
   "execution_count": 26,
   "id": "b83610e6-bca3-45e2-afd5-a824a74ac437",
   "metadata": {},
   "outputs": [
    {
     "data": {
      "text/plain": [
       "{3, 5}"
      ]
     },
     "execution_count": 26,
     "metadata": {},
     "output_type": "execute_result"
    }
   ],
   "source": [
    "my_list_4=[1,3,5,7,9]\n",
    "my_list_5=[2,5,4,3,2]\n",
    "def find_intersection(myl1,myl2):\n",
    "    intersection=set(myl1) & set(myl2)\n",
    "    return intersection\n",
    "find_intersection(my_list_4,my_list_5)"
   ]
  },
  {
   "cell_type": "markdown",
   "id": "35540545-eff3-4af0-8543-3d2e56c9d325",
   "metadata": {},
   "source": [
    "# 18. Implement a function to find the maximum subarray sum in a given list."
   ]
  },
  {
   "cell_type": "code",
   "execution_count": 27,
   "id": "d3945ae0-8356-4fd2-b842-118fd2986c80",
   "metadata": {},
   "outputs": [],
   "source": [
    "my_list\n",
    "def sum_subbarya(mylist):\n",
    "    if len(my_list)==0:\n",
    "        return 0\n",
    "    max_sum=mylist[0]\n",
    "    for i in range(1,len(my_list)):\n",
    "        max_sum=sum(mylist)\n",
    "    return max_sum\n",
    "    "
   ]
  },
  {
   "cell_type": "code",
   "execution_count": 28,
   "id": "c97d894f-a6be-4f31-8773-71638af08cc7",
   "metadata": {},
   "outputs": [
    {
     "data": {
      "text/plain": [
       "35"
      ]
     },
     "execution_count": 28,
     "metadata": {},
     "output_type": "execute_result"
    }
   ],
   "source": [
    "sum_subbarya(my_list)"
   ]
  },
  {
   "cell_type": "markdown",
   "id": "9b3dbbb7-e92a-4338-b37a-bd438f81ed67",
   "metadata": {},
   "source": [
    "# 19. Write a program to remove all vowels from a given string."
   ]
  },
  {
   "cell_type": "code",
   "execution_count": 29,
   "id": "c9dd25c9-68d1-46a4-9958-aaa695671238",
   "metadata": {},
   "outputs": [],
   "source": [
    "my_str='hello how are you'\n",
    "def remo_vow(mystr):\n",
    "    voweol='AEIOUaeiou'\n",
    "    result=\"\"\n",
    "    for i in mystr:\n",
    "        if i not in voweol:\n",
    "            result+=i\n",
    "    return result"
   ]
  },
  {
   "cell_type": "code",
   "execution_count": 30,
   "id": "aeb79838-4494-45b7-a602-2cc298f3e359",
   "metadata": {},
   "outputs": [
    {
     "data": {
      "text/plain": [
       "'hll hw r y'"
      ]
     },
     "execution_count": 30,
     "metadata": {},
     "output_type": "execute_result"
    }
   ],
   "source": [
    "remo_vow(my_str)"
   ]
  },
  {
   "cell_type": "markdown",
   "id": "8d3024be-fcee-4281-ab4c-a69f71c82d64",
   "metadata": {},
   "source": [
    "# 20. Implement a function to reverse the order of words in a given sentence"
   ]
  },
  {
   "cell_type": "code",
   "execution_count": 31,
   "id": "ebdb3289-e6e3-4d12-90fe-6cfbdead8827",
   "metadata": {},
   "outputs": [
    {
     "data": {
      "text/plain": [
       "'uoy era woh olleh'"
      ]
     },
     "execution_count": 31,
     "metadata": {},
     "output_type": "execute_result"
    }
   ],
   "source": [
    "def reverse_order(mystr):\n",
    "    return mystr[::-1]\n",
    "reverse_order(my_str)"
   ]
  },
  {
   "cell_type": "markdown",
   "id": "c0de5ed0-e79a-4f3d-add8-b523e706d3b3",
   "metadata": {},
   "source": [
    "# 21. Write a Python program to check if two strings are anagrams of each other."
   ]
  },
  {
   "cell_type": "code",
   "execution_count": 32,
   "id": "1e4200d1-ffa9-4600-a573-a98a22ec06dc",
   "metadata": {},
   "outputs": [],
   "source": [
    "my_str1='silent'\n",
    "my_str2='islnet'"
   ]
  },
  {
   "cell_type": "code",
   "execution_count": 33,
   "id": "675e1960-e505-4298-9c4f-3b1c7252826e",
   "metadata": {},
   "outputs": [],
   "source": [
    "def check_angaram_str(mystr1,mystr2):\n",
    "    mystr1=mystr1.lower()\n",
    "    mystr2=mystr2.lower()\n",
    "    mystr1=mystr1.replace(\" \",\"\")\n",
    "    mystr2=mystr2.replace(\" \",\"\")\n",
    "    return sorted(mystr1)==sorted(mystr2)"
   ]
  },
  {
   "cell_type": "code",
   "execution_count": 34,
   "id": "52c0acbc-87d8-4274-893c-c55b05576fb7",
   "metadata": {},
   "outputs": [
    {
     "data": {
      "text/plain": [
       "True"
      ]
     },
     "execution_count": 34,
     "metadata": {},
     "output_type": "execute_result"
    }
   ],
   "source": [
    "check_angaram_str(my_str1,my_str2)"
   ]
  },
  {
   "cell_type": "code",
   "execution_count": 35,
   "id": "43adcfaf-6fda-445a-9318-ddd1558ea963",
   "metadata": {},
   "outputs": [
    {
     "data": {
      "text/plain": [
       "True"
      ]
     },
     "execution_count": 35,
     "metadata": {},
     "output_type": "execute_result"
    }
   ],
   "source": [
    "is_anagram(my_str1,my_str2)"
   ]
  },
  {
   "cell_type": "markdown",
   "id": "6256f0d9-4ee8-43fd-87a2-3b8f5c0091ed",
   "metadata": {},
   "source": [
    "# 22. Implement a function to find the first non-repeating character in a string."
   ]
  },
  {
   "cell_type": "code",
   "execution_count": 36,
   "id": "84e76818-35e0-46bf-b1c7-8a9a8fb32045",
   "metadata": {},
   "outputs": [],
   "source": [
    "from collections import Counter\n",
    "\n",
    "def first_non_repeating_char(string):\n",
    "    char_count = Counter(string)\n",
    "\n",
    "    for char in string:\n",
    "        if char_count[char] == 1:\n",
    "            return char\n",
    "\n",
    "    return None\n"
   ]
  },
  {
   "cell_type": "code",
   "execution_count": 37,
   "id": "67e88438-7338-4965-b5e2-ff71fb27ee11",
   "metadata": {},
   "outputs": [
    {
     "data": {
      "text/plain": [
       "'w'"
      ]
     },
     "execution_count": 37,
     "metadata": {},
     "output_type": "execute_result"
    }
   ],
   "source": [
    "first_non_repeating_char(my_str)"
   ]
  },
  {
   "cell_type": "markdown",
   "id": "6e8c5b2a-43aa-428c-b7e4-07ba39519ff6",
   "metadata": {},
   "source": [
    "# 23. Write a program to find the prime factors of a given number."
   ]
  },
  {
   "cell_type": "code",
   "execution_count": 38,
   "id": "8218f517-67c3-4cfa-831c-ee917d84213d",
   "metadata": {},
   "outputs": [],
   "source": [
    "def prime_factors(number):\n",
    "    prime_no=[]\n",
    "    for i in range(1,number):\n",
    "        if number%i==0:\n",
    "            prime_no.append([i])\n",
    "    return prime_no"
   ]
  },
  {
   "cell_type": "code",
   "execution_count": 39,
   "id": "87dac644-9628-4420-bbe5-d15c52a892ff",
   "metadata": {},
   "outputs": [
    {
     "data": {
      "text/plain": [
       "[[1], [5]]"
      ]
     },
     "execution_count": 39,
     "metadata": {},
     "output_type": "execute_result"
    }
   ],
   "source": [
    "prime_factors(25)"
   ]
  },
  {
   "cell_type": "markdown",
   "id": "e92ac363-d70b-45cb-8453-b7343d34b5db",
   "metadata": {},
   "source": [
    "# 24. Implement a function to check if a given number is a power of two."
   ]
  },
  {
   "cell_type": "code",
   "execution_count": 40,
   "id": "656f6a08-b54f-4ac9-8a35-b699078ce5c1",
   "metadata": {},
   "outputs": [],
   "source": [
    "def is_power_of_two(n):\n",
    "    if n <= 0:\n",
    "        return False\n",
    "    return (n & (n - 1)) == 0 and n != 0\n"
   ]
  },
  {
   "cell_type": "code",
   "execution_count": 41,
   "id": "ca8fbf3e-0b22-4235-8dbc-3034634d6035",
   "metadata": {},
   "outputs": [
    {
     "data": {
      "text/plain": [
       "False"
      ]
     },
     "execution_count": 41,
     "metadata": {},
     "output_type": "execute_result"
    }
   ],
   "source": [
    "is_power_of_two(21)"
   ]
  },
  {
   "cell_type": "code",
   "execution_count": 42,
   "id": "53d02e48-ed2e-4d56-ad2f-8f6a382ebf99",
   "metadata": {},
   "outputs": [
    {
     "data": {
      "text/plain": [
       "True"
      ]
     },
     "execution_count": 42,
     "metadata": {},
     "output_type": "execute_result"
    }
   ],
   "source": [
    "is_power_of_two(64)"
   ]
  },
  {
   "cell_type": "markdown",
   "id": "d62dd454-27d2-45e6-b80e-e0127803dbd6",
   "metadata": {},
   "source": [
    "# 25. Write a Python program to merge two sorted lists into a single sorted list."
   ]
  },
  {
   "cell_type": "code",
   "execution_count": 43,
   "id": "3417e6f5-2bfe-4209-8a2b-9745b9375f8e",
   "metadata": {},
   "outputs": [],
   "source": [
    "my_list_1=[1,3,4]\n",
    "my_list_2=[5,2,6]\n",
    "def sorted_two_list(myl1,myl2):\n",
    "    new_list=myl1+myl2\n",
    "    return sorted(new_list)"
   ]
  },
  {
   "cell_type": "code",
   "execution_count": 44,
   "id": "63668741-72a7-41f1-b345-95dd2e3e4f5e",
   "metadata": {},
   "outputs": [
    {
     "data": {
      "text/plain": [
       "[1, 2, 3, 4, 5, 6]"
      ]
     },
     "execution_count": 44,
     "metadata": {},
     "output_type": "execute_result"
    }
   ],
   "source": [
    "sorted_two_list(my_list_1,my_list_2)"
   ]
  },
  {
   "cell_type": "markdown",
   "id": "8f9199c1-6e90-4833-95c9-7e096f8723a2",
   "metadata": {},
   "source": [
    "# 26. Implement a function to find the mode of a list of numbers."
   ]
  },
  {
   "cell_type": "code",
   "execution_count": 45,
   "id": "ebb43390-d39b-454f-afb7-6a14eb1e9b07",
   "metadata": {},
   "outputs": [
    {
     "name": "stdout",
     "output_type": "stream",
     "text": [
      "Mode: [4]\n"
     ]
    }
   ],
   "source": [
    "def find_mode(numbers):\n",
    "    counts = {}\n",
    "    for num in numbers:\n",
    "        if num in counts:\n",
    "            counts[num] += 1\n",
    "        else:\n",
    "            counts[num] = 1\n",
    "\n",
    "    max_count = max(counts.values())\n",
    "    mode = [num for num, count in counts.items() if count == max_count]\n",
    "\n",
    "    return mode\n",
    "\n",
    "# Example usage:\n",
    "numbers = [1, 2, 3, 3, 4, 4, 4, 5]\n",
    "mode = find_mode(numbers)\n",
    "print(\"Mode:\", mode)\n"
   ]
  },
  {
   "cell_type": "markdown",
   "id": "1f098f15-4d1c-4489-aa45-d4f83c43e2fb",
   "metadata": {},
   "source": [
    "# 27. Write a program to find the greatest common divisor (GCD) of two numbers."
   ]
  },
  {
   "cell_type": "code",
   "execution_count": 46,
   "id": "6ba52b57-b99f-489f-a8d2-4c6fae98d3b6",
   "metadata": {},
   "outputs": [
    {
     "name": "stdout",
     "output_type": "stream",
     "text": [
      "GCD: 12\n"
     ]
    }
   ],
   "source": [
    "def gcd(a, b):\n",
    "    while b != 0:\n",
    "        a, b = b, a % b\n",
    "    return a\n",
    "\n",
    "# Example usage:\n",
    "num1 = 24\n",
    "num2 = 36\n",
    "result = gcd(num1, num2)\n",
    "print(\"GCD:\", result)\n"
   ]
  },
  {
   "cell_type": "markdown",
   "id": "b8bfa5a8-2e96-47a2-ae51-69e4e5e4c151",
   "metadata": {},
   "source": [
    "# 28. Implement a function to calculate the square root of a given number."
   ]
  },
  {
   "cell_type": "code",
   "execution_count": 47,
   "id": "7f445419-fa57-4170-872e-3f6e3f2891b3",
   "metadata": {},
   "outputs": [],
   "source": [
    "def squreroot_find():\n",
    "    number=int(input('enter the number you find the square'))\n",
    "    return int(number*number)"
   ]
  },
  {
   "cell_type": "code",
   "execution_count": null,
   "id": "86fe0446-5b72-4be0-b705-eceed6a40dcc",
   "metadata": {},
   "outputs": [],
   "source": [
    "squreroot_find()"
   ]
  },
  {
   "cell_type": "markdown",
   "id": "f020404e-6997-46d6-8d69-f84e1565a56c",
   "metadata": {},
   "source": [
    "# 29. Write a Python program to check if a given string is a valid palindrome ignoring non-alphanumeric characters."
   ]
  },
  {
   "cell_type": "code",
   "execution_count": null,
   "id": "1d87f1c7-f589-4dfc-8edf-8381679bea63",
   "metadata": {},
   "outputs": [],
   "source": [
    "import re\n",
    "\n",
    "def is_valid_palindrome(s):\n",
    "    # Remove non-alphanumeric characters and convert to lowercase\n",
    "    alphanumeric_s = re.sub(r'[^a-zA-Z0-9]', '', s).lower()\n",
    "\n",
    "    # Use two pointers to check if the string is a palindrome\n",
    "    left = 0\n",
    "    right = len(alphanumeric_s) - 1\n",
    "\n",
    "    while left < right:\n",
    "        if alphanumeric_s[left] != alphanumeric_s[right]:\n",
    "            return False\n",
    "        left += 1\n",
    "        right -= 1\n",
    "\n",
    "    return True\n",
    "\n",
    "# Example usage:\n",
    "string = \"A man, a plan, a canal: Panama\"\n",
    "result = is_valid_palindrome(string)\n",
    "print(\"Is Valid Palindrome:\", result)\n"
   ]
  },
  {
   "cell_type": "markdown",
   "id": "4b481093-3b06-4b7d-a23b-a3fcff13c87c",
   "metadata": {},
   "source": [
    "# 30. Implement a function to find the minimum element in a rotated sorted list."
   ]
  },
  {
   "cell_type": "code",
   "execution_count": null,
   "id": "8389495b-54c2-412f-b0db-cc5f37d67030",
   "metadata": {},
   "outputs": [],
   "source": [
    "my_list_check=[2, 2, 3, 4, 5, 6, 6, 4, 6]\n",
    "def roted_max_no(number):\n",
    "    number=number[::-1]\n",
    "    return min(number)"
   ]
  },
  {
   "cell_type": "code",
   "execution_count": null,
   "id": "f861073b-9876-420f-b46a-f5b0a5dcc587",
   "metadata": {},
   "outputs": [],
   "source": [
    "roted_max_no(my_list_check)"
   ]
  },
  {
   "cell_type": "markdown",
   "id": "e8aeb7ae-4af6-433f-bb69-91a25a5d5bbf",
   "metadata": {},
   "source": [
    "# 31. Write a program to find the sum of all even numbers in a list."
   ]
  },
  {
   "cell_type": "code",
   "execution_count": null,
   "id": "bb4a9757-0b5c-40e4-97b9-ff942473562c",
   "metadata": {},
   "outputs": [],
   "source": [
    "def sum_even_numbers(numbers):\n",
    "    even_sum = 0\n",
    "\n",
    "    for num in numbers:\n",
    "        if num % 2 == 0:\n",
    "            even_sum += num\n",
    "\n",
    "    return even_sum\n",
    "\n",
    "\n",
    "numbers = [1, 2, 3, 4, 5, 6, 7, 8, 9, 10]\n",
    "result = sum_even_numbers(numbers)\n",
    "print(\"Sum of Even Numbers:\", result)\n"
   ]
  },
  {
   "cell_type": "markdown",
   "id": "dd4dea75-f721-42f3-bdb0-6a7094f0ef28",
   "metadata": {},
   "source": [
    "# 32. Implement a function to calculate the power of a number using recursion."
   ]
  },
  {
   "cell_type": "code",
   "execution_count": null,
   "id": "df8b6206-d6cc-41dd-bcf1-bcee837f9ce1",
   "metadata": {},
   "outputs": [],
   "source": [
    "def power(base, exponent):\n",
    "    if exponent == 0:\n",
    "        return 1\n",
    "    elif exponent > 0:\n",
    "        return base * power(base, exponent - 1)\n",
    "    else:\n",
    "        return 1 / power(base, -exponent)\n",
    "\n",
    "# Example usage:\n",
    "base = 2\n",
    "exponent = 3\n",
    "result = power(base, exponent)\n",
    "print(\"Result:\", result)\n"
   ]
  },
  {
   "cell_type": "markdown",
   "id": "d55bead5-c7ea-4450-bb30-5917fee311de",
   "metadata": {},
   "source": [
    "# 33. Write a Python program to remove duplicates from a list while preserving the order"
   ]
  },
  {
   "cell_type": "code",
   "execution_count": null,
   "id": "9d538605-8293-4329-b010-493eb1ca926b",
   "metadata": {},
   "outputs": [],
   "source": [
    "def remove_duplicates_preserve_order(lst):\n",
    "    seen = set()\n",
    "    return [x for x in lst if not (x in seen or seen.add(x))]\n",
    "\n",
    "# Example usage:\n",
    "numbers = [1, 2, 3, 2, 4, 5, 1, 3]\n",
    "result = remove_duplicates_preserve_order(numbers)\n",
    "print(\"List after removing duplicates:\", result)\n"
   ]
  },
  {
   "cell_type": "markdown",
   "id": "f3da3b98-709c-46c7-9649-eae042b7b80e",
   "metadata": {},
   "source": [
    "# 34. Implement a function to find the longest common prefix among a list of strings."
   ]
  },
  {
   "cell_type": "code",
   "execution_count": null,
   "id": "f8b5327c-b876-468e-a9f6-cff19911b069",
   "metadata": {},
   "outputs": [],
   "source": [
    "def longest_common_prefix(strings):\n",
    "    if not strings:\n",
    "        return \"\"\n",
    "\n",
    "    prefix = strings[0]\n",
    "    prefix_length = len(prefix)\n",
    "\n",
    "    for string in strings[1:]:\n",
    "        while string[:prefix_length] != prefix:\n",
    "            prefix = prefix[:-1]\n",
    "            prefix_length -= 1\n",
    "            if prefix_length == 0:\n",
    "                return \"\"\n",
    "\n",
    "    return prefix\n",
    "\n",
    "# Example usage:\n",
    "words = [\"flower\", \"flow\", \"flight\"]\n",
    "result = longest_common_prefix(words)\n",
    "print(\"Longest Common Prefix:\", result)\n"
   ]
  },
  {
   "cell_type": "markdown",
   "id": "4e7bdecb-8c99-4d61-9e5c-e5e4ea015c1e",
   "metadata": {},
   "source": [
    "# 35. Write a program to check if a given number is a perfect square."
   ]
  },
  {
   "cell_type": "code",
   "execution_count": null,
   "id": "c973e150-7c7f-45b7-a63a-0144aa9c7257",
   "metadata": {},
   "outputs": [],
   "source": [
    "import math\n",
    "\n",
    "def is_perfect_square(number):\n",
    "    if number < 0:\n",
    "        return False\n",
    "    sqrt = math.isqrt(number)\n",
    "    return sqrt * sqrt == number\n",
    "\n",
    "# Example usage:\n",
    "num = 16\n",
    "result = is_perfect_square(num)\n",
    "print(\"Is Perfect Square:\", result)\n"
   ]
  },
  {
   "cell_type": "markdown",
   "id": "50190daa-eaa3-469b-9f50-7b045b46fd35",
   "metadata": {},
   "source": [
    "# 36. Implement a function to calculate the product of all elements in a list."
   ]
  },
  {
   "cell_type": "code",
   "execution_count": null,
   "id": "aca8bc62-249b-48e7-a91d-f708dd00dc8b",
   "metadata": {},
   "outputs": [],
   "source": [
    "def product_element(myl):\n",
    "    emty=[]\n",
    "    for i in myl:\n",
    "        i=i*i\n",
    "        emty=i\n",
    "    return emty\n",
    "myl=[2,3,4,8]"
   ]
  },
  {
   "cell_type": "code",
   "execution_count": null,
   "id": "53fff722-98d0-428a-a6b9-8c6783df9fb8",
   "metadata": {},
   "outputs": [],
   "source": [
    "product_element(myl)"
   ]
  },
  {
   "cell_type": "markdown",
   "id": "0a295123-968c-4607-a358-91f5afd12b23",
   "metadata": {},
   "source": [
    "# 37. Write a Python program to reverse the order of words in a sentence while preserving the word order."
   ]
  },
  {
   "cell_type": "code",
   "execution_count": null,
   "id": "b1bebacb-6f04-42f3-9ce0-29d8bcb621c5",
   "metadata": {},
   "outputs": [],
   "source": [
    "def reverse_words(sentence):\n",
    "    words = sentence.split()\n",
    "    reversed_words = ' '.join(reversed(words))\n",
    "    return reversed_words\n",
    "\n",
    "# Example usage:\n",
    "sentence = \"Hello, world! Welcome to Python programming.\"\n",
    "reversed_sentence = reverse_words(sentence)\n",
    "print(\"Reversed Sentence:\", reversed_sentence)\n",
    "\n",
    "   "
   ]
  },
  {
   "cell_type": "markdown",
   "id": "4021e65a-6ae0-487e-8da0-780a17237256",
   "metadata": {},
   "source": [
    "# 38. Implement a function to find the missing number in a given list of consecutive numbers."
   ]
  },
  {
   "cell_type": "code",
   "execution_count": null,
   "id": "79a0642b-52c7-4dd7-bb6c-c1fb2475c5d4",
   "metadata": {},
   "outputs": [],
   "source": [
    "def find_missing_number(numbers):\n",
    "    n = len(numbers) + 1\n",
    "    total_sum = n * (n + 1) // 2\n",
    "    actual_sum = sum(numbers)\n",
    "    missing_number = total_sum - actual_sum\n",
    "    return missing_number\n",
    "\n",
    "# Example usage:\n",
    "nums = [1, 2, 3, 5, 6]\n",
    "missing_num = find_missing_number(nums)\n",
    "print(\"Missing Number:\", missing_num)\n"
   ]
  },
  {
   "cell_type": "markdown",
   "id": "f53e7b5e-5345-4c0e-a0e9-b0d557b55ca7",
   "metadata": {},
   "source": [
    "# 39. Write a program to find the sum of digits of a given number."
   ]
  },
  {
   "cell_type": "code",
   "execution_count": null,
   "id": "368c31d7-19d3-421e-806b-ecf1ddc0c1d8",
   "metadata": {},
   "outputs": [],
   "source": [
    "def sum_of_digits(number):\n",
    "    total = 0\n",
    "    for digit in str(number):\n",
    "        total += int(digit)\n",
    "    return total\n",
    "\n",
    "# Example usage:\n",
    "num = 12345\n",
    "digit_sum = sum_of_digits(num)\n",
    "print(\"Sum of Digits:\", digit_sum)\n"
   ]
  },
  {
   "cell_type": "markdown",
   "id": "c6ad96d4-e7b2-47de-a798-c0bb01530e0f",
   "metadata": {},
   "source": [
    "# 40. Implement a function to check if a given string is a valid palindrome considering case sensitivity"
   ]
  },
  {
   "cell_type": "code",
   "execution_count": null,
   "id": "109615d5-4229-4a9a-a1a2-9bb6a34a8b70",
   "metadata": {},
   "outputs": [],
   "source": [
    "def is_valid_palindrome(string):\n",
    "    clean_string = ''.join(char.lower() for char in string if char.isalnum())\n",
    "    return clean_string == clean_string[::-1]\n",
    "\n",
    "# Example usage:\n",
    "text = \"A man, a plan, a canal, Panama!\"\n",
    "is_palindrome = is_valid_palindrome(text)\n",
    "print(\"Is Valid Palindrome:\", is_palindrome)\n"
   ]
  },
  {
   "cell_type": "markdown",
   "id": "c2cb468d-2bf6-4c10-a31b-f820d5ea3772",
   "metadata": {},
   "source": [
    "# 41. Write a Python program to find the smallest missing positive integer in a list."
   ]
  },
  {
   "cell_type": "code",
   "execution_count": null,
   "id": "8d7ce34c-05b4-4b2b-a6b3-19378f266667",
   "metadata": {},
   "outputs": [],
   "source": [
    "def find_smallest_missing_positive(nums):\n",
    "    n = len(nums)\n",
    "    for i in range(n):\n",
    "        while 1 <= nums[i] <= n and nums[nums[i] - 1] != nums[i]:\n",
    "            nums[nums[i] - 1], nums[i] = nums[i], nums[nums[i] - 1]\n",
    "    for i in range(n):\n",
    "        if nums[i] != i + 1:\n",
    "            return i + 1\n",
    "    return n + 1\n",
    "\n",
    "# Example usage:\n",
    "numbers = [3, 4, -1, 1]\n",
    "smallest_missing = find_smallest_missing_positive(numbers)\n",
    "print(\"Smallest Missing Positive:\", smallest_missing)\n"
   ]
  },
  {
   "cell_type": "markdown",
   "id": "637e6409-ee19-40df-9a72-7fe37504f9e4",
   "metadata": {},
   "source": [
    "# 42. Implement a function to find the longest palindrome substring in a given string."
   ]
  },
  {
   "cell_type": "code",
   "execution_count": null,
   "id": "4b2c3abc-59f1-447f-b01a-1b2616c38c2f",
   "metadata": {},
   "outputs": [],
   "source": [
    "def longest_palindrome(string):\n",
    "    n = len(string)\n",
    "    max_length = 0\n",
    "    start = 0\n",
    "\n",
    "    # Helper function to expand around a center\n",
    "    def expand_around_center(left, right):\n",
    "        while left >= 0 and right < n and string[left] == string[right]:\n",
    "            left -= 1\n",
    "            right += 1\n",
    "        return right - left - 1\n",
    "\n",
    "    for i in range(n):\n",
    "        len1 = expand_around_center(i, i)\n",
    "        len2 = expand_around_center(i, i + 1)\n",
    "        length = max(len)\n"
   ]
  },
  {
   "cell_type": "markdown",
   "id": "c1535518-ce25-4755-85aa-2af2e801dc3d",
   "metadata": {},
   "source": [
    "# 43. Write a program to find the number of occurrences of a given element in a list"
   ]
  },
  {
   "cell_type": "code",
   "execution_count": null,
   "id": "a0d745fb-7131-4f37-b851-00816e77883a",
   "metadata": {},
   "outputs": [],
   "source": [
    "def count_occurrences(lst, element):\n",
    "    count = 0\n",
    "    for item in lst:\n",
    "        if item == element:\n",
    "            count += 1\n",
    "    return count\n",
    "\n",
    "# Example usage:\n",
    "numbers = [1, 2, 3, 4, 2, 2, 5]\n",
    "target = 2\n",
    "occurrences = count_occurrences(numbers, target)\n",
    "print(\"Number of occurrences:\", occurrences)\n"
   ]
  },
  {
   "cell_type": "markdown",
   "id": "b3bc7ab8-c743-4363-a2cb-56a8f51c17b2",
   "metadata": {},
   "source": [
    "# 44. Implement a function to check if a given number is a perfect number"
   ]
  },
  {
   "cell_type": "code",
   "execution_count": null,
   "id": "07a6a756-6eed-4ced-8ab2-5f06c9bafc99",
   "metadata": {},
   "outputs": [],
   "source": [
    "def is_perfect_number(number):\n",
    "    if number <= 0:\n",
    "        return False\n",
    "    factors_sum = sum(i for i in range(1, number) if number % i == 0)\n",
    "    return factors_sum == number\n",
    "\n",
    "# Example usage:\n",
    "num = 28\n",
    "is_perfect = is_perfect_number(num)\n",
    "print(\"Is Perfect Number:\", is_perfect)\n"
   ]
  },
  {
   "cell_type": "markdown",
   "id": "410e7b76-ebc3-409a-8124-be153d035bb1",
   "metadata": {},
   "source": [
    "# 45. Write a Python program to remove all duplicates from a string"
   ]
  },
  {
   "cell_type": "code",
   "execution_count": null,
   "id": "ae2eb7c6-1624-495f-a359-59b759a57745",
   "metadata": {},
   "outputs": [],
   "source": [
    "def remove_duplicates(string):\n",
    "    unique_chars = []\n",
    "    for char in string:\n",
    "        if char not in unique_chars:\n",
    "            unique_chars.append(char)\n",
    "    return ''.join(unique_chars)\n",
    "\n",
    "# Example usage:\n",
    "text = \"hello\"\n",
    "result = remove_duplicates(text)\n",
    "print(\"String after removing duplicates:\", result)\n"
   ]
  },
  {
   "cell_type": "markdown",
   "id": "165d24d8-54a8-4556-b90d-8f5dc6daa376",
   "metadata": {},
   "source": [
    "# 46. Implement a function to find the first missing positive"
   ]
  },
  {
   "cell_type": "code",
   "execution_count": null,
   "id": "cc98b3d6-9016-4999-ad19-977ff8952dc0",
   "metadata": {},
   "outputs": [],
   "source": [
    "def find_first_missing_positive(nums):\n",
    "    n = len(nums)\n",
    "    for i in range(n):\n",
    "        while 1 <= nums[i] <= n and nums[nums[i] - 1] != nums[i]:\n",
    "            nums[nums[i] - 1], nums[i] = nums[i], nums[nums[i] - 1]\n",
    "    for i in range(n):\n",
    "        if nums[i] != i + 1:\n",
    "            return i + 1\n",
    "    return n + 1\n",
    "\n",
    "# Example usage:\n",
    "numbers = [3, 4, -1, 1]\n",
    "missing_positive = find_first_missing_positive(numbers)\n",
    "print(\"First Missing Positive:\", missing_positive)\n"
   ]
  }
 ],
 "metadata": {
  "kernelspec": {
   "display_name": "Python 3 (ipykernel)",
   "language": "python",
   "name": "python3"
  },
  "language_info": {
   "codemirror_mode": {
    "name": "ipython",
    "version": 3
   },
   "file_extension": ".py",
   "mimetype": "text/x-python",
   "name": "python",
   "nbconvert_exporter": "python",
   "pygments_lexer": "ipython3",
   "version": "3.10.6"
  }
 },
 "nbformat": 4,
 "nbformat_minor": 5
}
