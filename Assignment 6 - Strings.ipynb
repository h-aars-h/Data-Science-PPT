{
 "cells": [
  {
   "cell_type": "code",
   "execution_count": 11,
   "id": "1343a111-6304-475a-8432-8eb661881581",
   "metadata": {},
   "outputs": [],
   "source": [
    "# <aside>\n",
    "# 💡 **Question 1**\n",
    "\n",
    "# A permutation perm of n + 1 integers of all the integers in the range [0, n] can be represented as a string s of length n where:\n",
    "\n",
    "# - s[i] == 'I' if perm[i] < perm[i + 1], and\n",
    "# - s[i] == 'D' if perm[i] > perm[i + 1].\n",
    "\n",
    "# Given a string s, reconstruct the permutation perm and return it. If there are multiple valid permutations perm, return **any of them**.\n",
    "\n",
    "# **Example 1:**\n",
    "\n",
    "# **Input:** s = \"IDID\"\n",
    "\n",
    "# **Output:**\n",
    "\n",
    "# [0,4,1,3,2]\n",
    "\n",
    "# </aside>\n",
    "\n",
    "# <aside>"
   ]
  },
  {
   "cell_type": "code",
   "execution_count": 2,
   "id": "9f7ba7e1-0481-47c6-b6a4-b42bba882159",
   "metadata": {},
   "outputs": [],
   "source": [
    "def reconstruct_permutation(s):\n",
    "    n = len(s)\n",
    "    perm = []\n",
    "    start = 0\n",
    "    end = n\n",
    "\n",
    "    for c in s:\n",
    "        if c == 'I':\n",
    "            perm.append(start)\n",
    "            start += 1\n",
    "        elif c == 'D':\n",
    "            perm.append(end)\n",
    "            end -= 1\n",
    "\n",
    "    perm.append(start)\n",
    "    return perm\n"
   ]
  },
  {
   "cell_type": "code",
   "execution_count": 3,
   "id": "1534a985-8876-4617-a57f-578b562a7518",
   "metadata": {},
   "outputs": [
    {
     "name": "stdout",
     "output_type": "stream",
     "text": [
      "[0, 4, 1, 3, 2]\n"
     ]
    }
   ],
   "source": [
    "s = \"IDID\"\n",
    "print(reconstruct_permutation(s))\n"
   ]
  },
  {
   "cell_type": "code",
   "execution_count": 7,
   "id": "3b966b0e-5987-40a5-be5e-52a907672e77",
   "metadata": {},
   "outputs": [],
   "source": [
    "\n",
    "# 💡 **Question 2**\n",
    "\n",
    "# You are given an m x n integer matrix matrix with the following two properties:\n",
    "\n",
    "# - Each row is sorted in non-decreasing order.\n",
    "# - The first integer of each row is greater than the last integer of the previous row.\n",
    "\n",
    "# Given an integer target, return true *if* target *is in* matrix *or* false *otherwise*.\n",
    "\n",
    "# You must write a solution in O(log(m * n)) time complexity.\n",
    "\n",
    "# **Example 1:**\n",
    "\n",
    "# </aside>"
   ]
  },
  {
   "cell_type": "code",
   "execution_count": 5,
   "id": "06cc1a6f-8112-477b-bd80-b63409d2dc04",
   "metadata": {},
   "outputs": [],
   "source": [
    "def search_matrix(matrix, target):\n",
    "    m = len(matrix)\n",
    "    n = len(matrix[0])\n",
    "    left = 0\n",
    "    right = m * n - 1\n",
    "\n",
    "    while left <= right:\n",
    "        mid = (left + right) // 2\n",
    "        element = matrix[mid // n][mid % n]\n",
    "\n",
    "        if element == target:\n",
    "            return True\n",
    "        elif element > target:\n",
    "            right = mid - 1\n",
    "        else:\n",
    "            left = mid + 1\n",
    "\n",
    "    return False\n"
   ]
  },
  {
   "cell_type": "code",
   "execution_count": 6,
   "id": "2844382b-8215-4c09-b5ea-06bd81bc4081",
   "metadata": {},
   "outputs": [
    {
     "name": "stdout",
     "output_type": "stream",
     "text": [
      "True\n"
     ]
    }
   ],
   "source": [
    "matrix = [\n",
    "    [1, 3, 5, 7],\n",
    "    [10, 11, 16, 20],\n",
    "    [23, 30, 34, 60]\n",
    "]\n",
    "target = 3\n",
    "\n",
    "print(search_matrix(matrix, target))\n"
   ]
  },
  {
   "cell_type": "code",
   "execution_count": 14,
   "id": "c5a303d5-b76d-440a-bf04-ec99b4fe77b9",
   "metadata": {},
   "outputs": [],
   "source": [
    "# <aside>\n",
    "# 💡 **Question 3**\n",
    "\n",
    "# Given an array of integers arr, return *true if and only if it is a valid mountain array*.\n",
    "\n",
    "# Recall that arr is a mountain array if and only if:\n",
    "\n",
    "# - arr.length >= 3\n",
    "# - There exists some i with 0 < i < arr.length - 1 such that:\n",
    "#     - arr[0] < arr[1] < ... < arr[i - 1] < arr[i]\n",
    "#     - arr[i] > arr[i + 1] > ... > arr[arr.length - 1]\n",
    "# </aside>"
   ]
  },
  {
   "cell_type": "code",
   "execution_count": 15,
   "id": "9090d1b7-ac47-4c1c-b7f1-3cfbf1316809",
   "metadata": {},
   "outputs": [],
   "source": [
    "def is_valid_mountain_array(arr):\n",
    "    if len(arr) < 3:\n",
    "        return False\n",
    "\n",
    "    i = 0\n",
    "    while i < len(arr) - 1 and arr[i] < arr[i + 1]:\n",
    "        i += 1\n",
    "\n",
    "    if i == 0 or i == len(arr) - 1:\n",
    "        return False\n",
    "\n",
    "    while i < len(arr) - 1 and arr[i] > arr[i + 1]:\n",
    "        i += 1\n",
    "\n",
    "    return i == len(arr) - 1\n",
    "\n"
   ]
  },
  {
   "cell_type": "code",
   "execution_count": 16,
   "id": "9d23ad5f-50aa-4584-90ce-72c9c0d2f22f",
   "metadata": {},
   "outputs": [],
   "source": [
    "# <aside>\n",
    "# 💡 **Question 4**\n",
    "\n",
    "# Given a binary array nums, return *the maximum length of a contiguous subarray with an equal number of* 0 *and* 1.\n",
    "\n",
    "# **Example 1:**\n",
    "\n",
    "# **Input:** nums = [0,1]\n",
    "\n",
    "# **Output:** 2\n",
    "\n",
    "# **Explanation:**\n",
    "\n",
    "# [0, 1] is the longest contiguous subarray with an equal number of 0 and 1.\n",
    "\n",
    "# </aside>"
   ]
  },
  {
   "cell_type": "code",
   "execution_count": 17,
   "id": "4a271154-a6d0-4ca0-86e0-612371182d8f",
   "metadata": {},
   "outputs": [],
   "source": [
    "def find_max_length(nums):\n",
    "    count = 0  # Variable to store the count of 0s and 1s\n",
    "    max_length = 0  # Variable to store the maximum length\n",
    "\n",
    "    # Dictionary to store the count and the corresponding index\n",
    "    count_dict = {0: -1}\n",
    "\n",
    "    for i in range(len(nums)):\n",
    "        # Increment count by 1 if the current element is 1\n",
    "        # Decrement count by 1 if the current element is 0\n",
    "        count += 1 if nums[i] == 1 else -1\n",
    "\n",
    "        # Check if the count is already present in the dictionary\n",
    "        if count in count_dict:\n",
    "            # Update the maximum length if the subarray length is larger\n",
    "            max_length = max(max_length, i - count_dict[count])\n",
    "        else:\n",
    "            # Store the index of the first occurrence of the count in the dictionary\n",
    "            count_dict[count] = i\n",
    "\n",
    "    return max_length\n"
   ]
  },
  {
   "cell_type": "code",
   "execution_count": 18,
   "id": "cc4b77f7-b8cf-4401-9a68-1f0c68979461",
   "metadata": {},
   "outputs": [],
   "source": [
    "# <aside>\n",
    "# 💡 **Question 5**\n",
    "\n",
    "# The **product sum** of two equal-length arrays a and b is equal to the sum of a[i] * b[i] for all 0 <= i < a.length (**0-indexed**).\n",
    "\n",
    "# - For example, if a = [1,2,3,4] and b = [5,2,3,1], the **product sum** would be 1*5 + 2*2 + 3*3 + 4*1 = 22.\n",
    "\n",
    "# Given two arrays nums1 and nums2 of length n, return *the **minimum product sum** if you are allowed to **rearrange** the **order** of the elements in* nums1.\n",
    "\n",
    "# **Example 1:**\n",
    "\n",
    "# **Input:** nums1 = [5,3,4,2], nums2 = [4,2,2,5]\n",
    "\n",
    "# **Output:** 40\n",
    "\n",
    "# **Explanation:**\n",
    "\n",
    "# We can rearrange nums1 to become [3,5,4,2]. The product sum of [3,5,4,2] and [4,2,2,5] is 3*4 + 5*2 + 4*2 + 2*5 = 40.\n",
    "\n",
    "# </aside>"
   ]
  },
  {
   "cell_type": "code",
   "execution_count": 19,
   "id": "563900c1-7b81-4d19-8b85-0b113148f574",
   "metadata": {},
   "outputs": [],
   "source": [
    "def min_product_sum(nums1, nums2):\n",
    "    nums1.sort()  # Sort nums1 in non-decreasing order\n",
    "    nums2.sort()  # Sort nums2 in non-decreasing order\n",
    "\n",
    "    min_product_sum = 0\n",
    "\n",
    "    for i in range(len(nums1)):\n",
    "        min_product_sum += nums1[i] * nums2[len(nums2) - 1 - i]\n",
    "\n",
    "    return min_product_sum\n"
   ]
  },
  {
   "cell_type": "code",
   "execution_count": 21,
   "id": "55bacb08-ca7b-4ed2-a3d0-99550cf2fb83",
   "metadata": {},
   "outputs": [
    {
     "data": {
      "text/plain": [
       "40"
      ]
     },
     "execution_count": 21,
     "metadata": {},
     "output_type": "execute_result"
    }
   ],
   "source": [
    "nums1 = [5,3,4,2] \n",
    "nums2 = [4,2,2,5]\n",
    "min_product_sum(nums1, nums2)"
   ]
  },
  {
   "cell_type": "code",
   "execution_count": 22,
   "id": "5153e5d2-9f9a-4bfb-805a-128652e4c681",
   "metadata": {},
   "outputs": [],
   "source": [
    "# <aside>\n",
    "# 💡 **Question 6**\n",
    "\n",
    "# An integer array original is transformed into a **doubled** array changed by appending **twice the value** of every element in original, and then randomly **shuffling** the resulting array.\n",
    "\n",
    "# Given an array changed, return original *if* changed *is a **doubled** array. If* changed *is not a **doubled** array, return an empty array. The elements in* original *may be returned in **any** order*.\n",
    "\n",
    "# **Example 1:**\n",
    "\n",
    "# **Input:** changed = [1,3,4,2,6,8]\n",
    "\n",
    "# **Output:** [1,3,4]\n",
    "\n",
    "# **Explanation:** One possible original array could be [1,3,4]:\n",
    "\n",
    "# - Twice the value of 1 is 1 * 2 = 2.\n",
    "# - Twice the value of 3 is 3 * 2 = 6.\n",
    "# - Twice the value of 4 is 4 * 2 = 8.\n",
    "\n",
    "# Other original arrays could be [4,3,1] or [3,1,4].\n",
    "\n",
    "# </aside>"
   ]
  },
  {
   "cell_type": "code",
   "execution_count": 23,
   "id": "58ab9304-3d3a-4fc4-8ecc-aa29b2a9bd99",
   "metadata": {},
   "outputs": [],
   "source": [
    "def find_original_array(changed):\n",
    "    count = {}\n",
    "    for num in changed:\n",
    "        count[num] = count.get(num, 0) + 1\n",
    "\n",
    "    changed.sort()\n",
    "\n",
    "    original = []\n",
    "    for num in changed:\n",
    "        if count[num] == 0:\n",
    "            continue\n",
    "        if count.get(2 * num, 0) == 0:\n",
    "            return []\n",
    "        original.append(num)\n",
    "        count[num] -= 1\n",
    "        count[2 * num] -= 1\n",
    "\n",
    "    return original\n"
   ]
  },
  {
   "cell_type": "code",
   "execution_count": 25,
   "id": "27f0e723-e2f7-45a5-88aa-5079866b727e",
   "metadata": {},
   "outputs": [],
   "source": [
    "# Given a positive integer n, generate an n x n matrix filled with elements from 1 to n2 in spiral order."
   ]
  },
  {
   "cell_type": "code",
   "execution_count": 24,
   "id": "2977e890-2582-4a2a-939b-f24fa5dd682e",
   "metadata": {},
   "outputs": [],
   "source": [
    "def generate_spiral_matrix(n):\n",
    "    matrix = [[0] * n for _ in range(n)]\n",
    "    num = 1  # Initial value to fill in the matrix\n",
    "    row_start, row_end = 0, n - 1\n",
    "    col_start, col_end = 0, n - 1\n",
    "\n",
    "    while num <= n * n:\n",
    "        # Traverse the top row from left to right\n",
    "        for col in range(col_start, col_end + 1):\n",
    "            matrix[row_start][col] = num\n",
    "            num += 1\n",
    "        row_start += 1\n",
    "\n",
    "        # Traverse the rightmost column from top to bottom\n",
    "        for row in range(row_start, row_end + 1):\n",
    "            matrix[row][col_end] = num\n",
    "            num += 1\n",
    "        col_end -= 1\n",
    "\n",
    "        # Traverse the bottom row from right to left\n",
    "        for col in range(col_end, col_start - 1, -1):\n",
    "            matrix[row_end][col] = num\n",
    "            num += 1\n",
    "        row_end -= 1\n",
    "\n",
    "        # Traverse the leftmost column from bottom to top\n",
    "        for row in range(row_end, row_start - 1, -1):\n",
    "            matrix[row][col_start] = num\n",
    "            num += 1\n",
    "        col_start += 1\n",
    "\n",
    "    return matrix\n"
   ]
  },
  {
   "cell_type": "code",
   "execution_count": 28,
   "id": "14c6ee3c-a559-4bdf-9b8d-e8600fc0f209",
   "metadata": {},
   "outputs": [
    {
     "data": {
      "text/plain": [
       "[[1, 2, 3], [8, 9, 4], [7, 6, 5]]"
      ]
     },
     "execution_count": 28,
     "metadata": {},
     "output_type": "execute_result"
    }
   ],
   "source": [
    "generate_spiral_matrix(3)"
   ]
  },
  {
   "cell_type": "code",
   "execution_count": 29,
   "id": "26f56891-c19b-4db2-890c-476077788c86",
   "metadata": {},
   "outputs": [],
   "source": [
    "# 8 Given two sparse matrices mat1 of size m x k and mat2 of size k x n, return the result of mat1 x mat2. You may assume that multiplication is always possible."
   ]
  },
  {
   "cell_type": "code",
   "execution_count": 30,
   "id": "c4823f33-dcb8-49fa-ad96-e0f303e31827",
   "metadata": {},
   "outputs": [],
   "source": [
    "def multiply_sparse_matrices(mat1, mat2):\n",
    "    m, k = len(mat1), len(mat1[0])\n",
    "    n = len(mat2[0])\n",
    "\n",
    "    result = [[0] * n for _ in range(m)]\n",
    "\n",
    "    # Create a transpose of mat2 for efficient column access\n",
    "    mat2_transpose = [[mat2[j][i] for j in range(k)] for i in range(n)]\n",
    "\n",
    "    for i in range(m):\n",
    "        for j in range(n):\n",
    "            for p in range(k):\n",
    "                result[i][j] += mat1[i][p] * mat2_transpose[j][p]\n",
    "\n",
    "    return result\n"
   ]
  },
  {
   "cell_type": "code",
   "execution_count": null,
   "id": "0d1de7f0-47c4-4ac2-a876-ca8e4920d9e6",
   "metadata": {},
   "outputs": [],
   "source": []
  }
 ],
 "metadata": {
  "kernelspec": {
   "display_name": "Python 3 (ipykernel)",
   "language": "python",
   "name": "python3"
  },
  "language_info": {
   "codemirror_mode": {
    "name": "ipython",
    "version": 3
   },
   "file_extension": ".py",
   "mimetype": "text/x-python",
   "name": "python",
   "nbconvert_exporter": "python",
   "pygments_lexer": "ipython3",
   "version": "3.10.6"
  }
 },
 "nbformat": 4,
 "nbformat_minor": 5
}
