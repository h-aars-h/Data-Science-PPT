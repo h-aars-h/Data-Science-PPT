{
 "cells": [
  {
   "cell_type": "markdown",
   "id": "84858778-f9ec-4b00-a26a-5bcfb2b1c9db",
   "metadata": {},
   "source": [
    "# 1. Scenario: A company wants to analyze the sales performance of its products in different regions. They have collected the following data:\n",
    "#    Region A: [10, 15, 12, 8, 14]\n",
    "#    Region B: [18, 20, 16, 22, 25]\n",
    "#    Calculate the mean sales for each region.\n"
   ]
  },
  {
   "cell_type": "code",
   "execution_count": 1,
   "id": "da1097bc-cf27-4247-af7b-4ca468099d45",
   "metadata": {},
   "outputs": [],
   "source": [
    "region={\"Region_A\":[10, 15, 12, 8, 14],\n",
    "\"Region_B\":[18, 20, 16, 22, 25]}"
   ]
  },
  {
   "cell_type": "code",
   "execution_count": 2,
   "id": "fffdb69b-1f53-4019-881a-b02b9074f9a7",
   "metadata": {},
   "outputs": [
    {
     "data": {
      "text/plain": [
       "dict_items([('Region_A', [10, 15, 12, 8, 14]), ('Region_B', [18, 20, 16, 22, 25])])"
      ]
     },
     "execution_count": 2,
     "metadata": {},
     "output_type": "execute_result"
    }
   ],
   "source": [
    "region.items()"
   ]
  },
  {
   "cell_type": "code",
   "execution_count": 3,
   "id": "da76e45d-d76d-4ddc-8dba-f15dfcd2b511",
   "metadata": {},
   "outputs": [],
   "source": [
    "import statistics as sts"
   ]
  },
  {
   "cell_type": "code",
   "execution_count": 4,
   "id": "35fbd7a8-a95b-464c-afce-d054d079ee33",
   "metadata": {},
   "outputs": [
    {
     "name": "stdout",
     "output_type": "stream",
     "text": [
      "The Region A is mean value  is  11.8\n",
      "The Region B is mean value  is  20.2\n"
     ]
    }
   ],
   "source": [
    "print('The Region A is mean value  is ',sts.mean(region['Region_A']))\n",
    "print('The Region B is mean value  is ',sts.mean(region['Region_B']))"
   ]
  },
  {
   "cell_type": "markdown",
   "id": "19e79857-828e-4dcd-a3e9-b36fe626fd36",
   "metadata": {},
   "source": [
    "# 2. Scenario: A survey is conducted to measure customer satisfaction on a scale of 1 to 5. The data collected is as follows:\n",
    "#    [4, 5, 2, 3, 5, 4, 3, 2, 4, 5]\n",
    "#    Calculate the mode of the survey responses.\n"
   ]
  },
  {
   "cell_type": "code",
   "execution_count": 5,
   "id": "f8f4cd7e-9e64-47eb-9225-70b7e7dfc6da",
   "metadata": {},
   "outputs": [
    {
     "name": "stdout",
     "output_type": "stream",
     "text": [
      "A survey is conducted to measure customer satisfaction is  4\n"
     ]
    }
   ],
   "source": [
    "customer_satisfaction=[4, 5, 2, 3, 5, 4, 3, 2, 4, 5]\n",
    "print('A survey is conducted to measure customer satisfaction is ',sts.mode(customer_satisfaction))"
   ]
  },
  {
   "cell_type": "markdown",
   "id": "9c67d095-f7e0-4658-b087-109e73e0ce55",
   "metadata": {},
   "source": [
    "\n",
    "# 3. Scenario: A company wants to compare the salaries of two departments. The salary data for Department A and Department B are as follows:\n",
    "#    Department A: [5000, 6000, 5500, 7000]\n",
    "#    Department B: [4500, 5500, 5800, 6000, 5200]\n",
    "#    Calculate the median salary for each department\n"
   ]
  },
  {
   "cell_type": "code",
   "execution_count": 6,
   "id": "d3dfbee5-fdb4-4e01-ba02-3517042555b8",
   "metadata": {},
   "outputs": [],
   "source": [
    "Department={'Department_A': [5000, 6000, 5500, 7000],\n",
    "'Department_B': [4500, 5500, 5800, 6000, 5200]}"
   ]
  },
  {
   "cell_type": "code",
   "execution_count": 7,
   "id": "0e18f7ae-81e4-4345-bdb2-3fd10c911e86",
   "metadata": {},
   "outputs": [
    {
     "name": "stdout",
     "output_type": "stream",
     "text": [
      "A comapany sallaeris of the department A 5750.0\n",
      "A comapany sallaeris of the department B 5500\n"
     ]
    }
   ],
   "source": [
    "print(\"A comapany sallaeris of the department A\",sts.median(Department[\"Department_A\"]))\n",
    "print(\"A comapany sallaeris of the department B\",sts.median(Department[\"Department_B\"]))"
   ]
  },
  {
   "cell_type": "markdown",
   "id": "1f66f7a7-b897-4b7c-8a45-573649ead969",
   "metadata": {},
   "source": [
    "# 4. Scenario: A data analyst wants to determine the variability in the daily stock prices of a company. The data collected is as follows:\n",
    "#    [25.5, 24.8, 26.1, 25.3, 24.9]\n",
    "#    Calculate the range of the stock prices.\n"
   ]
  },
  {
   "cell_type": "code",
   "execution_count": 8,
   "id": "8be892fa-c4e1-4afc-8729-9e9063841353",
   "metadata": {},
   "outputs": [
    {
     "name": "stdout",
     "output_type": "stream",
     "text": [
      "Range = Highest value - Lowest value is  1.3000000000000007\n"
     ]
    }
   ],
   "source": [
    "stock_prices=[25.5, 24.8, 26.1, 25.3, 24.9]\n",
    "print(\"Range = Highest value - Lowest value is \",max(stock_prices)-min(stock_prices))\n"
   ]
  },
  {
   "cell_type": "code",
   "execution_count": 9,
   "id": "1ce4ccd4-60a6-4297-8713-5d77541fd870",
   "metadata": {},
   "outputs": [
    {
     "name": "stdout",
     "output_type": "stream",
     "text": [
      "T-Statistic: 1.4312528946642733\n",
      "P-Value: 0.19023970239078333\n"
     ]
    }
   ],
   "source": [
    "from scipy.stats import ttest_ind\n",
    "\n",
    "# Test scores for Group A and Group B\n",
    "group_a_scores = [85, 90, 92, 88, 91]\n",
    "group_b_scores = [82, 88, 90, 86, 87]\n",
    "\n",
    "# Perform t-test\n",
    "t_statistic, p_value = ttest_ind(group_a_scores, group_b_scores)\n",
    "\n",
    "# Print the results\n",
    "print(\"T-Statistic:\", t_statistic)\n",
    "print(\"P-Value:\", p_value)\n"
   ]
  },
  {
   "cell_type": "code",
   "execution_count": 10,
   "id": "de8f7eaa-42eb-48d7-94b3-3d9ae85a3a85",
   "metadata": {},
   "outputs": [],
   "source": [
    "# 6. Scenario: A company wants to analyze the relationship between advertising expenditure and sales. The data collected is as follows:\n",
    "#    Advertising Expenditure (in thousands): [10, 15, 12, 8, 14]\n",
    "#    Sales (in thousands): [25, 30, 28, 20, 26]\n",
    "#    Calculate the correlation coefficient between advertising expenditure and sales.\n"
   ]
  },
  {
   "cell_type": "code",
   "execution_count": 11,
   "id": "892dc763-fea3-42fd-b9a5-d1e5396d64a1",
   "metadata": {},
   "outputs": [],
   "source": [
    "data={\"Advertising_Expenditure_in_thousands\":[10, 15, 12, 8, 14],\n",
    "\"Sales_in_thousands\":[25, 30, 28, 20, 26]}"
   ]
  },
  {
   "cell_type": "code",
   "execution_count": 12,
   "id": "7d60f49b-311f-4474-b6f7-c4452a9b68c8",
   "metadata": {},
   "outputs": [
    {
     "name": "stdout",
     "output_type": "stream",
     "text": [
      "0.8757511375750133\n",
      "9.45\n"
     ]
    }
   ],
   "source": [
    "import pandas as pd \n",
    "pd.DataFrame(data)\n",
    "print(sts.correlation(data['Advertising_Expenditure_in_thousands'],data['Sales_in_thousands']))\n",
    "print(sts.covariance(data['Advertising_Expenditure_in_thousands'],data['Sales_in_thousands']))"
   ]
  },
  {
   "cell_type": "markdown",
   "id": "26183e97-0cc3-4432-8a4b-99167bc227fe",
   "metadata": {},
   "source": [
    "\n",
    "# 7. Scenario: A survey is conducted to measure the heights of a group of people. The data collected is as follows:\n",
    "#    [160, 170, 165, 155, 175, 180, 170]\n",
    "#    Calculate the standard deviation of the heights.\n"
   ]
  },
  {
   "cell_type": "code",
   "execution_count": null,
   "id": "4b8b0fad-f595-4a79-9caf-a6a54366b06b",
   "metadata": {},
   "outputs": [
    {
     "name": "stdout",
     "output_type": "stream",
     "text": [
      "Standard Deviation: 7.953949089757174\n"
     ]
    }
   ],
   "source": [
    "import math\n",
    "\n",
    "def calculate_standard_deviation(data):\n",
    "    n = len(data)\n",
    "    mean = sum(data) / n\n",
    "    squared_deviations = [(x - mean) ** 2 for x in data]\n",
    "    variance = sum(squared_deviations) / n\n",
    "    standard_deviation = math.sqrt(variance)\n",
    "    return standard_deviation\n",
    "\n",
    "# Example usage\n",
    "heights = [160, 170, 165, 155, 175, 180, 170]\n",
    "result = calculate_standard_deviation(heights)\n",
    "print(\"Standard Deviation:\", result)\n",
    "\n",
    "\n"
   ]
  },
  {
   "cell_type": "markdown",
   "id": "0bc401cd-8d18-473b-ab5a-d4550a5bf410",
   "metadata": {},
   "source": [
    "# 8. Scenario: A company wants to analyze the relationship between employee tenure and job satisfaction. The data collected is as follows:\n",
    "#    Employee Tenure (in years): [2, 3, 5, 4, 6, 2, 4]\n",
    "#    Job Satisfaction (on a scale of 1 to 10): [7, 8, 6, 9, 5, 7, 6]\n",
    "#    Perform a linear regression analysis to predict job satisfaction based on employee tenure.\n"
   ]
  },
  {
   "cell_type": "code",
   "execution_count": 19,
   "id": "d98116b9-4f38-4893-b24e-e6f0dcfd14e5",
   "metadata": {},
   "outputs": [
    {
     "name": "stdout",
     "output_type": "stream",
     "text": [
      "Predicted job satisfaction: 7.191489361702127\n"
     ]
    }
   ],
   "source": [
    "from sklearn.linear_model import LinearRegression\n",
    "import numpy as np\n",
    "\n",
    "# Employee tenure (in years)\n",
    "x = np.array([2, 3, 5, 4, 6, 2, 4]).reshape(-1, 1)\n",
    "\n",
    "# Job satisfaction (on a scale of 1 to 10)\n",
    "y = np.array([7, 8, 6, 9, 5, 7, 6])\n",
    "\n",
    "# Create a linear regression model\n",
    "model = LinearRegression()\n",
    "\n",
    "# Fit the model to the data\n",
    "model.fit(x, y)\n",
    "\n",
    "# Predict job satisfaction for a given tenure\n",
    "new_tenure = np.array([3]).reshape(-1, 1)\n",
    "predicted_satisfaction = model.predict(new_tenure)\n",
    "\n",
    "# Print the predicted job satisfaction\n",
    "print(\"Predicted job satisfaction:\", predicted_satisfaction[0])\n"
   ]
  },
  {
   "cell_type": "markdown",
   "id": "9675edad-af4c-4643-8b1c-79714ca79416",
   "metadata": {},
   "source": [
    "# 9. Scenario: A study is conducted to compare the effectiveness of two different medications. The recovery times of the patients in each group are as follows:\n",
    "#    Medication A: [10, 12, 14, 11, 13]\n",
    "#    Medication B: [15, 17, 16, 14, 18]\n",
    "#    Perform an analysis of variance (ANOVA) to determine if there is a significant difference in the mean recovery times between the two medications.\n"
   ]
  },
  {
   "cell_type": "code",
   "execution_count": 2,
   "id": "cc138414-0627-4f1c-8533-c9dbd090d5dd",
   "metadata": {},
   "outputs": [
    {
     "name": "stdout",
     "output_type": "stream",
     "text": [
      "             df  sum_sq  mean_sq     F   PR(>F)\n",
      "Medication  1.0    40.0     40.0  16.0  0.00395\n",
      "Residual    8.0    20.0      2.5   NaN      NaN\n"
     ]
    }
   ],
   "source": [
    "import statsmodels.api as sm\n",
    "from statsmodels.formula.api import ols\n",
    "import pandas as pd\n",
    "\n",
    "# Recovery times for Medication A\n",
    "medication_a = [10, 12, 14, 11, 13]\n",
    "\n",
    "# Recovery times for Medication B\n",
    "medication_b = [15, 17, 16, 14, 18]\n",
    "\n",
    "# Combine the data into a DataFrame\n",
    "data = pd.DataFrame({'RecoveryTime': medication_a + medication_b,\n",
    "                     'Medication': ['A']*len(medication_a) + ['B']*len(medication_b)})\n",
    "\n",
    "# Perform ANOVA\n",
    "model = ols('RecoveryTime ~ Medication', data=data).fit()\n",
    "anova_table = sm.stats.anova_lm(model)\n",
    "\n",
    "# Print the ANOVA table\n",
    "print(anova_table)\n"
   ]
  },
  {
   "cell_type": "markdown",
   "id": "13640a3b-d93b-4af3-b923-a253dfa2b6db",
   "metadata": {},
   "source": [
    "# 10. Scenario: A company wants to analyze customer feedback ratings on a scale of 1 to 10. The data collected is\n",
    "\n",
    " as follows:\n",
    "    [8, 9, 7, 6, 8, 10, 9, 8, 7, 8]\n",
    "    Calculate the 75th percentile of the feedback ratings.\n"
   ]
  },
  {
   "cell_type": "code",
   "execution_count": 3,
   "id": "12e83dcc-74ca-45d7-82c6-0e5f482ee451",
   "metadata": {},
   "outputs": [
    {
     "name": "stdout",
     "output_type": "stream",
     "text": [
      "75th percentile: 8.75\n"
     ]
    }
   ],
   "source": [
    "import numpy as np\n",
    "\n",
    "# Feedback ratings\n",
    "feedback_ratings = [8, 9, 7, 6, 8, 10, 9, 8, 7, 8]\n",
    "\n",
    "# Calculate the 75th percentile\n",
    "percentile_75 = np.percentile(feedback_ratings, 75)\n",
    "\n",
    "# Print the result\n",
    "print(\"75th percentile:\", percentile_75)\n"
   ]
  },
  {
   "cell_type": "markdown",
   "id": "4493ec34-10fd-4bde-9426-ff4591e16968",
   "metadata": {},
   "source": [
    "# 11. Scenario: A quality control department wants to test the weight consistency of a product. The weights of a sample of products are as follows:\n",
    "#     [10.2, 9.8, 10.0, 10.5, 10.3, 10.1]\n",
    "#     Perform a hypothesis test to determine if the mean weight differs significantly from 10 grams.\n",
    " "
   ]
  },
  {
   "cell_type": "code",
   "execution_count": 4,
   "id": "9ad5fa59-4b64-41f0-8cb1-d140ce979bad",
   "metadata": {},
   "outputs": [
    {
     "name": "stdout",
     "output_type": "stream",
     "text": [
      "t-statistic: 1.5126584522688367\n",
      "p-value: 0.19077595151110102\n"
     ]
    }
   ],
   "source": [
    "from scipy import stats\n",
    "\n",
    "# Weights of the sample products\n",
    "weights = [10.2, 9.8, 10.0, 10.5, 10.3, 10.1]\n",
    "\n",
    "# Define the null hypothesis: mean weight = 10 grams\n",
    "null_hypothesis = 10\n",
    "\n",
    "# Perform one-sample t-test\n",
    "t_statistic, p_value = stats.ttest_1samp(weights, null_hypothesis)\n",
    "\n",
    "# Print the results\n",
    "print(\"t-statistic:\", t_statistic)\n",
    "print(\"p-value:\", p_value)\n"
   ]
  },
  {
   "cell_type": "code",
   "execution_count": 5,
   "id": "34293272-d7ff-4acb-8b9e-88803eaeeb08",
   "metadata": {},
   "outputs": [],
   "source": [
    "# 12. Scenario: A company wants to analyze the click-through rates of two different website designs. The number of clicks for each design is as follows:\n",
    "#     Design A: [100, 120, 110, 90, 95]\n",
    "#     Design B: [80, 85, 90, 95, 100]\n",
    "#     Perform a chi-square test to determine if there is a significant difference in the click-through rates between the two designs\n"
   ]
  },
  {
   "cell_type": "code",
   "execution_count": 9,
   "id": "a8e34c65-2bb3-4eb2-be6b-46cb1c69bbc5",
   "metadata": {},
   "outputs": [
    {
     "name": "stdout",
     "output_type": "stream",
     "text": [
      "Chi-square statistic: 6.110658166925435\n",
      "p-value: 0.19103526314060293\n"
     ]
    }
   ],
   "source": [
    "from scipy import stats\n",
    "import numpy as np\n",
    "\n",
    "# Click-through rates for Design A\n",
    "design_a = [100, 120, 110, 90, 95]\n",
    "\n",
    "# Click-through rates for Design B\n",
    "design_b = [80, 85, 90, 95, 100]\n",
    "\n",
    "# Combine the data into a contingency table\n",
    "contingency_table = np.array([design_a, design_b])\n",
    "\n",
    "# Perform chi-square test\n",
    "chi2_statistic, p_value, _, _ = stats.chi2_contingency(contingency_table)\n",
    "\n",
    "# Print the results\n",
    "print(\"Chi-square statistic:\", chi2_statistic)\n",
    "print(\"p-value:\", p_value)\n"
   ]
  },
  {
   "cell_type": "markdown",
   "id": "42b4bd7a-c530-401f-9fcd-0c9218e20828",
   "metadata": {},
   "source": [
    "\n",
    "# 13. Scenario: A survey is conducted to measure customer satisfaction with a product on a scale of 1 to 10. The data collected is as follows:\n",
    "#     [7, 9, 6, 8, 10, 7, 8, 9, 7, 8]\n",
    "#     Calculate the 95% confidence interval for the population mean satisfaction score.\n"
   ]
  },
  {
   "cell_type": "code",
   "execution_count": 11,
   "id": "9da2b82a-9ad2-41b3-8e75-c2be5eab9cb2",
   "metadata": {},
   "outputs": [
    {
     "name": "stdout",
     "output_type": "stream",
     "text": [
      "95% Confidence Interval: (7.043561120599888, 8.756438879400113)\n"
     ]
    }
   ],
   "source": [
    "import numpy as np\n",
    "from scipy import stats\n",
    "\n",
    "# Customer satisfaction scores\n",
    "satisfaction_scores = [7, 9, 6, 8, 10, 7, 8, 9, 7, 8]\n",
    "\n",
    "# Calculate the sample mean and standard deviation\n",
    "sample_mean = np.mean(satisfaction_scores)\n",
    "sample_std = np.std(satisfaction_scores, ddof=1)\n",
    "\n",
    "# Calculate the t-value for the 95% confidence interval\n",
    "t_value = stats.t.ppf(0.975, df=len(satisfaction_scores) - 1)\n",
    "\n",
    "# Calculate the margin of error\n",
    "margin_of_error = t_value * (sample_std / np.sqrt(len(satisfaction_scores)))\n",
    "\n",
    "# Calculate the confidence interval\n",
    "confidence_interval = (sample_mean - margin_of_error, sample_mean + margin_of_error)\n",
    "\n",
    "# Print the confidence interval\n",
    "print(\"95% Confidence Interval:\", confidence_interval)\n"
   ]
  },
  {
   "cell_type": "markdown",
   "id": "faa3b646-548a-4b00-aff5-93c4e522084f",
   "metadata": {},
   "source": [
    "# 14. Scenario: A company wants to analyze the effect of temperature on product performance. The data collected is as follows:\n",
    "#     Temperature (in degrees Celsius): [20, 22, 23, 19, 21]\n",
    "#     Performance (on a scale of 1 to 10): [8, 7, 9, 6, 8]\n",
    "#     Perform a simple linear regression to predict performance based on temperature.\n",
    "\n"
   ]
  },
  {
   "cell_type": "code",
   "execution_count": 15,
   "id": "db77b9ec-9dce-4f97-b6ce-e99ba7254a0d",
   "metadata": {},
   "outputs": [
    {
     "name": "stdout",
     "output_type": "stream",
     "text": [
      "Slope: 0.5\n",
      "Intercept: -2.9000000000000004\n",
      "R-value: 0.6933752452815364\n",
      "P-value: 0.19417134561205843\n",
      "Standard Error: 0.30000000000000004\n"
     ]
    }
   ],
   "source": [
    "from scipy import stats\n",
    "\n",
    "# Temperature (in degrees Celsius)\n",
    "temperature = [20, 22, 23, 19, 21]\n",
    "\n",
    "# Performance (on a scale of 1 to 10)\n",
    "performance = [8, 7, 9, 6, 8]\n",
    "\n",
    "# Perform simple linear regression\n",
    "slope, intercept, r_value, p_value, std_err = stats.linregress(temperature, performance)\n",
    "\n",
    "# Print the results\n",
    "print(\"Slope:\", slope)\n",
    "print(\"Intercept:\", intercept)\n",
    "print(\"R-value:\", r_value)\n",
    "print(\"P-value:\", p_value)\n",
    "print(\"Standard Error:\", std_err)\n"
   ]
  },
  {
   "cell_type": "markdown",
   "id": "16213ae6-a616-4542-aaf0-fba9f36cb117",
   "metadata": {},
   "source": [
    "# 15. Scenario: A study is conducted to compare the preferences of two groups of participants. The preferences are measured on a Likert scale from 1 to 5. The data collected is as follows:\n",
    "#     Group A: [4, 3, 5, 2, 4]\n",
    "#     Group B: [3, 2, 4, 3, 3]\n",
    "#     Perform a Mann-Whitney U test to determine if there is a significant difference in the median preferences between the two groups.\n"
   ]
  },
  {
   "cell_type": "code",
   "execution_count": 16,
   "id": "f34a96d1-c96d-431d-9513-5ce1209f8bb2",
   "metadata": {},
   "outputs": [
    {
     "name": "stdout",
     "output_type": "stream",
     "text": [
      "Mann-Whitney U statistic: 17.0\n",
      "p-value: 0.380836480306712\n"
     ]
    }
   ],
   "source": [
    "from scipy import stats\n",
    "\n",
    "# Preferences for Group A\n",
    "group_a = [4, 3, 5, 2, 4]\n",
    "\n",
    "# Preferences for Group B\n",
    "group_b = [3, 2, 4, 3, 3]\n",
    "\n",
    "# Perform Mann-Whitney U test\n",
    "statistic, p_value = stats.mannwhitneyu(group_a, group_b, alternative='two-sided')\n",
    "\n",
    "# Print the results\n",
    "print(\"Mann-Whitney U statistic:\", statistic)\n",
    "print(\"p-value:\", p_value)\n"
   ]
  },
  {
   "cell_type": "markdown",
   "id": "59ffed16-a71f-45c4-9f45-db45c7b9fa08",
   "metadata": {},
   "source": [
    "# 16. Scenario: A company wants to analyze the distribution of customer ages. The data collected is as follows:\n",
    "#     [25, 30, 35, 40, 45, 50, 55, 60, 65, 70]\n",
    "#     Calculate the interquartile range (IQR) of the ages.\n"
   ]
  },
  {
   "cell_type": "code",
   "execution_count": 17,
   "id": "51275904-c785-41db-a614-700ade55b922",
   "metadata": {},
   "outputs": [
    {
     "name": "stdout",
     "output_type": "stream",
     "text": [
      "Interquartile Range (IQR): 22.5\n"
     ]
    }
   ],
   "source": [
    "import numpy as np\n",
    "\n",
    "# Customer ages\n",
    "ages = [25, 30, 35, 40, 45, 50, 55, 60, 65, 70]\n",
    "\n",
    "# Calculate the 25th percentile (Q1)\n",
    "q1 = np.percentile(ages, 25)\n",
    "\n",
    "# Calculate the 75th percentile (Q3)\n",
    "q3 = np.percentile(ages, 75)\n",
    "\n",
    "# Calculate the interquartile range (IQR)\n",
    "iqr = q3 - q1\n",
    "\n",
    "# Print the result\n",
    "print(\"Interquartile Range (IQR):\", iqr)\n"
   ]
  },
  {
   "cell_type": "markdown",
   "id": "0d6c34bb-d4d4-47dd-8bbf-2d0161e95eb4",
   "metadata": {},
   "source": [
    "# 17. Scenario: A study is conducted to compare the performance of three different machine learning algorithms. The accuracy scores for each algorithm are as follows:\n",
    "#     Algorithm A: [0.85, 0.80, 0.82, 0.87, 0.83]\n",
    "#     Algorithm B: [0.78, 0.82, 0.84, 0.80, 0.79]\n",
    "#     Algorithm C: [0.90, 0.88, 0.89, 0.86, 0.87]\n",
    "#     Perform a Kruskal-Wallis test to determine if there is a significant difference in the median accuracy scores between the algorithms.\n"
   ]
  },
  {
   "cell_type": "code",
   "execution_count": 18,
   "id": "1613f4e5-f409-4c41-b919-82d9606b1970",
   "metadata": {},
   "outputs": [
    {
     "name": "stdout",
     "output_type": "stream",
     "text": [
      "Kruskal-Wallis statistic: 9.696947935368053\n",
      "p-value: 0.007840333026249539\n"
     ]
    }
   ],
   "source": [
    "from scipy import stats\n",
    "\n",
    "# Accuracy scores for Algorithm A\n",
    "algorithm_a = [0.85, 0.80, 0.82, 0.87, 0.83]\n",
    "\n",
    "# Accuracy scores for Algorithm B\n",
    "algorithm_b = [0.78, 0.82, 0.84, 0.80, 0.79]\n",
    "\n",
    "# Accuracy scores for Algorithm C\n",
    "algorithm_c = [0.90, 0.88, 0.89, 0.86, 0.87]\n",
    "\n",
    "# Perform Kruskal-Wallis test\n",
    "statistic, p_value = stats.kruskal(algorithm_a, algorithm_b, algorithm_c)\n",
    "\n",
    "# Print the results\n",
    "print(\"Kruskal-Wallis statistic:\", statistic)\n",
    "print(\"p-value:\", p_value)\n"
   ]
  },
  {
   "cell_type": "markdown",
   "id": "94ed6e1b-6399-43b4-94ef-6163967f93bb",
   "metadata": {},
   "source": [
    "\n",
    "# 18. Scenario: A company wants to analyze the effect of price on sales. The data collected is as follows:\n",
    "#     Price (in dollars): [10, 15, 12, 8, 14]\n",
    "#     Sales: [100, 80, 90, 110, 95]\n",
    "#     Perform a simple linear regression to predict\n",
    "\n",
    "#  sales based on price.\n"
   ]
  },
  {
   "cell_type": "code",
   "execution_count": null,
   "id": "b6466b66-0662-4fc6-832b-fabdb0b841d8",
   "metadata": {},
   "outputs": [
    {
     "name": "stdout",
     "output_type": "stream",
     "text": [
      "Predicted sales: 90.79268292682927\n"
     ]
    }
   ],
   "source": [
    "from sklearn.linear_model import LinearRegression\n",
    "import numpy as np\n",
    "\n",
    "# Price (in dollars)\n",
    "price = np.array([10, 15, 12, 8, 14]).reshape(-1, 1)\n",
    "\n",
    "# Sales\n",
    "sales = np.array([100, 80, 90, 110, 95])\n",
    "\n",
    "# Create a linear regression model\n",
    "model = LinearRegression()\n",
    "\n",
    "# Fit the model to the data\n",
    "model.fit(price, sales)\n",
    "\n",
    "# Predict sales for a given price\n",
    "new_price = np.array([13]).reshape(-1, 1)\n",
    "predicted_sales = model.predict(new_price)\n",
    "\n",
    "# Print the predicted sales\n",
    "print(\"Predicted sales:\", predicted_sales[0])\n"
   ]
  },
  {
   "cell_type": "code",
   "execution_count": 24,
   "id": "5546bb4f-363e-4148-9e9f-e1c8acf61aea",
   "metadata": {},
   "outputs": [],
   "source": [
    "# 19. Scenario: A survey is conducted to measure the satisfaction levels of customers with a new product. The data collected is as follows:\n",
    "#     [7, 8, 9, 6, 8, 7, 9, 7, 8, 7]\n",
    "#     Calculate the standard error of the mean satisfaction score.\n",
    "\n"
   ]
  },
  {
   "cell_type": "code",
   "execution_count": 23,
   "id": "42992351-b1ca-4a61-91ae-a527ca50769d",
   "metadata": {},
   "outputs": [
    {
     "name": "stdout",
     "output_type": "stream",
     "text": [
      "Standard Error of the Mean: 0.30550504633038933\n"
     ]
    }
   ],
   "source": [
    "import numpy as np\n",
    "\n",
    "# Satisfaction levels\n",
    "satisfaction_levels = [7, 8, 9, 6, 8, 7, 9, 7, 8, 7]\n",
    "\n",
    "# Calculate the standard error of the mean\n",
    "standard_error = np.std(satisfaction_levels, ddof=1) / np.sqrt(len(satisfaction_levels))\n",
    "\n",
    "# Print the result\n",
    "print(\"Standard Error of the Mean:\", standard_error)\n"
   ]
  },
  {
   "cell_type": "code",
   "execution_count": 27,
   "id": "3123da79-35b9-42da-b377-f4611a5e58c2",
   "metadata": {},
   "outputs": [],
   "source": [
    "# 20. Scenario: A company wants to analyze the relationship between advertising expenditure and sales. The data collected is as follows:\n",
    "#     Advertising Expenditure (in thousands): [10, 15, 12, 8, 14]\n",
    "#     Sales (in thousands): [25, 30, 28, 20, 26]\n",
    "#     Perform a multiple regression analysis to predict sales based on advertising expenditure.\n",
    "\n"
   ]
  },
  {
   "cell_type": "code",
   "execution_count": 28,
   "id": "aba9fa78-59ea-47ed-babf-5219f520996d",
   "metadata": {},
   "outputs": [
    {
     "name": "stdout",
     "output_type": "stream",
     "text": [
      "                            OLS Regression Results                            \n",
      "==============================================================================\n",
      "Dep. Variable:                  Sales   R-squared:                       0.767\n",
      "Model:                            OLS   Adj. R-squared:                  0.689\n",
      "Method:                 Least Squares   F-statistic:                     9.872\n",
      "Date:                Wed, 12 Jul 2023   Prob (F-statistic):             0.0516\n",
      "Time:                        13:18:07   Log-Likelihood:                -9.5288\n",
      "No. Observations:                   5   AIC:                             23.06\n",
      "Df Residuals:                       3   BIC:                             22.28\n",
      "Df Model:                           1                                         \n",
      "Covariance Type:            nonrobust                                         \n",
      "==========================================================================================\n",
      "                             coef    std err          t      P>|t|      [0.025      0.975]\n",
      "------------------------------------------------------------------------------------------\n",
      "const                     12.2012      4.429      2.755      0.070      -1.893      26.296\n",
      "AdvertisingExpenditure     1.1524      0.367      3.142      0.052      -0.015       2.320\n",
      "==============================================================================\n",
      "Omnibus:                          nan   Durbin-Watson:                   1.136\n",
      "Prob(Omnibus):                    nan   Jarque-Bera (JB):                0.546\n",
      "Skew:                          -0.267   Prob(JB):                        0.761\n",
      "Kurtosis:                       1.471   Cond. No.                         57.3\n",
      "==============================================================================\n",
      "\n",
      "Notes:\n",
      "[1] Standard Errors assume that the covariance matrix of the errors is correctly specified.\n"
     ]
    },
    {
     "name": "stderr",
     "output_type": "stream",
     "text": [
      "/opt/conda/lib/python3.10/site-packages/statsmodels/stats/stattools.py:74: ValueWarning: omni_normtest is not valid with less than 8 observations; 5 samples were given.\n",
      "  warn(\"omni_normtest is not valid with less than 8 observations; %i \"\n"
     ]
    }
   ],
   "source": [
    "import statsmodels.api as sm\n",
    "import pandas as pd\n",
    "\n",
    "# Advertising Expenditure (in thousands)\n",
    "expenditure = [10, 15, 12, 8, 14]\n",
    "\n",
    "# Sales (in thousands)\n",
    "sales = [25, 30, 28, 20, 26]\n",
    "\n",
    "# Create a DataFrame\n",
    "data = pd.DataFrame({'AdvertisingExpenditure': expenditure, 'Sales': sales})\n",
    "\n",
    "# Add constant term to the data\n",
    "data = sm.add_constant(data)\n",
    "\n",
    "# Fit the multiple regression model\n",
    "model = sm.OLS(data['Sales'], data[['const', 'AdvertisingExpenditure']])\n",
    "result = model.fit()\n",
    "\n",
    "# Print the regression results\n",
    "print(result.summary())\n"
   ]
  },
  {
   "cell_type": "code",
   "execution_count": null,
   "id": "0da4bc2c-08c5-42b0-bc0b-87eb59a6fe3c",
   "metadata": {},
   "outputs": [],
   "source": []
  }
 ],
 "metadata": {
  "kernelspec": {
   "display_name": "Python 3 (ipykernel)",
   "language": "python",
   "name": "python3"
  },
  "language_info": {
   "codemirror_mode": {
    "name": "ipython",
    "version": 3
   },
   "file_extension": ".py",
   "mimetype": "text/x-python",
   "name": "python",
   "nbconvert_exporter": "python",
   "pygments_lexer": "ipython3",
   "version": "3.10.6"
  }
 },
 "nbformat": 4,
 "nbformat_minor": 5
}
