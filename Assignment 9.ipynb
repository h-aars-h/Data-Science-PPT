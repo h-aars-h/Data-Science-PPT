{
 "cells": [
  {
   "cell_type": "code",
   "execution_count": 7,
   "id": "56d62715-ff7f-4034-a928-06696435afa7",
   "metadata": {},
   "outputs": [],
   "source": [
    "# 1 Given a 1-indexed array of integers numbers that are already sorted in non-decreasing order, find two numbers such that they add up to a specific target number. Let these two numbers be numbers[index1] and numbers[index2] where 1 <= index1 < index2 < numbers.length.\n",
    "# Return the indices of the two numbers, index1, and index2, added by one as an integer array [index1, index2] of length 2.\n",
    "# The tests are generated such that there is exactly one solution. You may not use the same element twice.\n",
    "# Your solution must use only constant extra space.\n",
    "# Input: numbers = [2,7,11,15], target = 9\n",
    "# Output: [1,2]\n",
    "# Explanation: The sum of 2 and 7 is 9. Therefore, index1 = 1, index2 = 2. We return [1, 2].\n"
   ]
  },
  {
   "cell_type": "code",
   "execution_count": 1,
   "id": "e5acb312-7f0e-4c6f-8171-6d8b08262a55",
   "metadata": {},
   "outputs": [
    {
     "name": "stdout",
     "output_type": "stream",
     "text": [
      "[1, 2]\n"
     ]
    }
   ],
   "source": [
    "def two_sum(numbers, target):\n",
    "    left = 0\n",
    "    right = len(numbers) - 1\n",
    "\n",
    "    while left < right:\n",
    "        current_sum = numbers[left] + numbers[right]\n",
    "\n",
    "        if current_sum == target:\n",
    "            return [left + 1, right + 1]  # Adding 1 to indices to make them 1-indexed\n",
    "        elif current_sum < target:\n",
    "            left += 1\n",
    "        else:\n",
    "            right -= 1\n",
    "\n",
    "    # If no solution found, an empty list is returned\n",
    "    return []\n",
    "\n",
    "# Test the function\n",
    "numbers = [2, 7, 11, 15]\n",
    "target = 9\n",
    "result = two_sum(numbers, target)\n",
    "print(result)  # Output: [1, 2]\n"
   ]
  },
  {
   "cell_type": "code",
   "execution_count": 9,
   "id": "efba3b21-54b4-4308-b643-967d1f624a56",
   "metadata": {},
   "outputs": [],
   "source": [
    "\n",
    "# 2 Given an array of integer nums sorted in non-decreasing order, find the starting and ending position of a given target value.\n",
    "# If the target is not found in the array, return [-1, -1].\n",
    "# You must write an algorithm with O(log n) runtime complexity\n",
    "# Input: nums = [5,7,7,8,8,10], target = 8\n",
    "# Output: [3,4]\n"
   ]
  },
  {
   "cell_type": "code",
   "execution_count": 2,
   "id": "db1e4120-e46d-430d-9c08-61a626af5c80",
   "metadata": {},
   "outputs": [
    {
     "name": "stdout",
     "output_type": "stream",
     "text": [
      "[3, 4]\n"
     ]
    }
   ],
   "source": [
    "def find_leftmost(nums, target):\n",
    "    left, right = 0, len(nums) - 1\n",
    "    result = -1\n",
    "\n",
    "    while left <= right:\n",
    "        mid = left + (right - left) // 2\n",
    "\n",
    "        if nums[mid] >= target:\n",
    "            right = mid - 1\n",
    "        else:\n",
    "            left = mid + 1\n",
    "\n",
    "        if nums[mid] == target:\n",
    "            result = mid\n",
    "\n",
    "    return result\n",
    "\n",
    "\n",
    "def find_rightmost(nums, target):\n",
    "    left, right = 0, len(nums) - 1\n",
    "    result = -1\n",
    "\n",
    "    while left <= right:\n",
    "        mid = left + (right - left) // 2\n",
    "\n",
    "        if nums[mid] <= target:\n",
    "            left = mid + 1\n",
    "        else:\n",
    "            right = mid - 1\n",
    "\n",
    "        if nums[mid] == target:\n",
    "            result = mid\n",
    "\n",
    "    return result\n",
    "\n",
    "\n",
    "def search_range(nums, target):\n",
    "    leftmost = find_leftmost(nums, target)\n",
    "    rightmost = find_rightmost(nums, target)\n",
    "\n",
    "    return [leftmost, rightmost]\n",
    "\n",
    "\n",
    "# Test the function\n",
    "nums = [5, 7, 7, 8, 8, 10]\n",
    "target = 8\n",
    "output = search_range(nums, target)\n",
    "print(output)  # Output: [3, 4]\n"
   ]
  },
  {
   "cell_type": "code",
   "execution_count": 10,
   "id": "34673768-6d94-4aff-bbb4-4381fb747534",
   "metadata": {},
   "outputs": [],
   "source": [
    "# 3 A peak element is an element that is strictly greater than its neighbors.\n",
    "# Given a 0-indexed integer array nums, find a peak element, and return its index. If the array contains multiple peaks, return the index to any of the peaks.\n",
    "# You may imagine that nums[-1] = nums[n] = -∞. In other words, an element is always considered to be strictly greater than a neighbor that is outside the array.\n",
    "# You must write an algorithm that runs in O(log n) time.\n",
    "# Input: nums = [1,2,3,1]\n",
    "# Output: 2\n",
    "# Explanation: 3 is a peak element and your function should return the index number 2.\n"
   ]
  },
  {
   "cell_type": "code",
   "execution_count": 3,
   "id": "9b0dcade-e362-45b1-a0f4-936ff43d6c94",
   "metadata": {},
   "outputs": [
    {
     "name": "stdout",
     "output_type": "stream",
     "text": [
      "2\n"
     ]
    }
   ],
   "source": [
    "def find_peak_element(nums):\n",
    "    left, right = 0, len(nums) - 1\n",
    "\n",
    "    while left < right:\n",
    "        mid = left + (right - left) // 2\n",
    "\n",
    "        if nums[mid] < nums[mid + 1]:\n",
    "            # Move towards the higher side of the array\n",
    "            left = mid + 1\n",
    "        else:\n",
    "            # Move towards the lower or equal side of the array\n",
    "            right = mid\n",
    "\n",
    "    return left\n",
    "\n",
    "\n",
    "# Test the function\n",
    "nums = [1, 2, 3, 1]\n",
    "output = find_peak_element(nums)\n",
    "print(output)  # Output: 2\n"
   ]
  },
  {
   "cell_type": "code",
   "execution_count": 11,
   "id": "f6440a17-0e08-4dbc-b235-f662461c97e9",
   "metadata": {},
   "outputs": [],
   "source": [
    "#4  Given a sorted array of distinct integers and a target value, return the index if the target is found. If not, return the index where it would be if it were inserted in order.\n",
    "# You must write an algorithm with O(log n) runtime complexity.\n",
    "# Input: nums = [1,3,5,6], target = 5\n",
    "# Output: 2\n",
    "\n",
    "# Input: nums = [1,3,5,6], target = 7\n",
    "# Output: 4"
   ]
  },
  {
   "cell_type": "code",
   "execution_count": 4,
   "id": "a933da82-c386-41f7-8331-3e3dfe23f49e",
   "metadata": {},
   "outputs": [
    {
     "name": "stdout",
     "output_type": "stream",
     "text": [
      "2\n",
      "4\n"
     ]
    }
   ],
   "source": [
    "def search_insert(nums, target):\n",
    "    left, right = 0, len(nums) - 1\n",
    "\n",
    "    while left <= right:\n",
    "        mid = left + (right - left) // 2\n",
    "\n",
    "        if nums[mid] == target:\n",
    "            return mid\n",
    "        elif nums[mid] < target:\n",
    "            left = mid + 1\n",
    "        else:\n",
    "            right = mid - 1\n",
    "\n",
    "    # If the target is not found, return the index where it should be inserted\n",
    "    return left\n",
    "\n",
    "\n",
    "# Test cases\n",
    "nums1 = [1, 3, 5, 6]\n",
    "target1 = 5\n",
    "output1 = search_insert(nums1, target1)\n",
    "print(output1)  # Output: 2\n",
    "\n",
    "nums2 = [1, 3, 5, 6]\n",
    "target2 = 7\n",
    "output2 = search_insert(nums2, target2)\n",
    "print(output2)  # Output: 4\n"
   ]
  },
  {
   "cell_type": "code",
   "execution_count": 12,
   "id": "591d0859-1d47-4093-84c3-7292b211fdb0",
   "metadata": {},
   "outputs": [],
   "source": [
    "# 5 Find the majority element in the array. A majority element in an array A[] of size n is an element that appears more than n/2 times (and hence there is at most one such element). \n",
    "# Input: A[]={3, 3, 4, 2, 4, 4, 2, 4, 4}\n",
    "# Output: 4\n",
    "# Explanation: The frequency of 4 is 5 which is greater than half of the size of the array size. \n"
   ]
  },
  {
   "cell_type": "code",
   "execution_count": 5,
   "id": "f88e66be-2aaa-468a-be02-a0388d7fa218",
   "metadata": {},
   "outputs": [
    {
     "name": "stdout",
     "output_type": "stream",
     "text": [
      "4\n"
     ]
    }
   ],
   "source": [
    "def find_majority_element(nums):\n",
    "    candidate = None\n",
    "    count = 0\n",
    "\n",
    "    for num in nums:\n",
    "        if count == 0:\n",
    "            candidate = num\n",
    "            count = 1\n",
    "        elif candidate == num:\n",
    "            count += 1\n",
    "        else:\n",
    "            count -= 1\n",
    "\n",
    "    # At this point, candidate is a potential majority element\n",
    "    # We need to verify if it indeed occurs more than n/2 times\n",
    "    count = 0\n",
    "    for num in nums:\n",
    "        if num == candidate:\n",
    "            count += 1\n",
    "\n",
    "    if count > len(nums) // 2:\n",
    "        return candidate\n",
    "    else:\n",
    "        return None\n",
    "\n",
    "\n",
    "# Test the function\n",
    "A = [3, 3, 4, 2, 4, 4, 2, 4, 4]\n",
    "output = find_majority_element(A)\n",
    "print(output)  # Output: 4\n"
   ]
  },
  {
   "cell_type": "code",
   "execution_count": 13,
   "id": "0ae68359-82b9-4eba-9510-3887474d87c5",
   "metadata": {},
   "outputs": [],
   "source": [
    "# 6 You are a product manager and currently leading a team to develop a new product. Unfortunately, the latest version of your product fails the quality check. Since each version is developed based on the previous version, all the versions after a bad version are also bad.\n",
    "# Suppose you have n versions [1, 2, ..., n] and you want to find out the first bad one, which causes all the following ones to be bad.\n",
    "# You are given an API bool isBadVersion(version) which returns whether the version is bad. Implement a function to find the first bad version. You should minimize the number of calls to the API.\n",
    "# Input: n = 5, bad = 4\n",
    "# Output: 4\n",
    "# Explanation:\n",
    "# call isBadVersion(3) -> false\n",
    "# call isBadVersion(5) -> true\n",
    "# call isBadVersion(4) -> true\n",
    "# Then 4 is the first bad version.\n",
    "\n",
    "\n"
   ]
  },
  {
   "cell_type": "code",
   "execution_count": 14,
   "id": "3358f710-0d2e-4e93-849f-f9ba0854edaf",
   "metadata": {},
   "outputs": [
    {
     "name": "stdout",
     "output_type": "stream",
     "text": [
      "4\n"
     ]
    }
   ],
   "source": [
    "def find_majority_element(nums):\n",
    "    candidate = None\n",
    "    count = 0\n",
    "\n",
    "    for num in nums:\n",
    "        if count == 0:\n",
    "            candidate = num\n",
    "            count = 1\n",
    "        elif candidate == num:\n",
    "            count += 1\n",
    "        else:\n",
    "            count -= 1\n",
    "\n",
    "    # At this point, candidate is a potential majority element\n",
    "    # We need to verify if it indeed occurs more than n/2 times\n",
    "    count = 0\n",
    "    for num in nums:\n",
    "        if num == candidate:\n",
    "            count += 1\n",
    "\n",
    "    if count > len(nums) // 2:\n",
    "        return candidate\n",
    "    else:\n",
    "        return None\n",
    "\n",
    "\n",
    "# Test the function\n",
    "A = [3, 3, 4, 2, 4, 4, 2, 4, 4]\n",
    "output = find_majority_element(A)\n",
    "print(output)  # Output: 4\n"
   ]
  },
  {
   "cell_type": "code",
   "execution_count": 16,
   "id": "ac457af0-92a2-48f4-9ad6-073da8ffe89d",
   "metadata": {},
   "outputs": [],
   "source": [
    "# 7 Given an array of integers, find the inversion of an array. Formally, two elements a[i] and a[j] form an inversion if a[i] > a[j] and i < j.\n",
    "# N=5, arr[] = {2, 4, 1, 3, 5}\n",
    "# Output: 3\n",
    "# Explanation: (2,1) (4,1) and (4,3) forms an inversion in an array\n"
   ]
  },
  {
   "cell_type": "code",
   "execution_count": 17,
   "id": "c8286833-468f-4ef0-99c4-2a5b53d3dc11",
   "metadata": {},
   "outputs": [
    {
     "name": "stdout",
     "output_type": "stream",
     "text": [
      "3\n"
     ]
    }
   ],
   "source": [
    "def count_inversions(arr):\n",
    "    def merge_sort(arr):\n",
    "        if len(arr) <= 1:\n",
    "            return arr, 0\n",
    "\n",
    "        mid = len(arr) // 2\n",
    "        left, left_inversions = merge_sort(arr[:mid])\n",
    "        right, right_inversions = merge_sort(arr[mid:])\n",
    "        merged, merge_inversions = merge(left, right)\n",
    "\n",
    "        total_inversions = left_inversions + right_inversions + merge_inversions\n",
    "        return merged, total_inversions\n",
    "\n",
    "    def merge(left, right):\n",
    "        merged = []\n",
    "        inversions = 0\n",
    "        left_index, right_index = 0, 0\n",
    "\n",
    "        while left_index < len(left) and right_index < len(right):\n",
    "            if left[left_index] <= right[right_index]:\n",
    "                merged.append(left[left_index])\n",
    "                left_index += 1\n",
    "            else:\n",
    "                merged.append(right[right_index])\n",
    "                right_index += 1\n",
    "                inversions += len(left) - left_index\n",
    "\n",
    "        merged += left[left_index:]\n",
    "        merged += right[right_index:]\n",
    "\n",
    "        return merged, inversions\n",
    "\n",
    "    _, inversions = merge_sort(arr)\n",
    "    return inversions\n",
    "\n",
    "\n",
    "# Test the function\n",
    "arr = [2, 4, 1, 3, 5]\n",
    "output = count_inversions(arr)\n",
    "print(output)  # Output: 3\n"
   ]
  },
  {
   "cell_type": "code",
   "execution_count": 18,
   "id": "b06b6ca3-e705-44ae-ab16-5133d47a027e",
   "metadata": {},
   "outputs": [],
   "source": [
    "# Given three arrays sorted in non-decreasing order, print all common elements in these arrays.\n",
    "# ar1[] = {1, 5, 10, 20, 40, 80} \n",
    "# ar2[] = {6, 7, 20, 80, 100} \n",
    "# ar3[] = {3, 4, 15, 20, 30, 70, 80, 120} \n",
    "# Output: 20, 80\n"
   ]
  },
  {
   "cell_type": "code",
   "execution_count": 19,
   "id": "b0e36af2-547a-4243-8129-adb996f7d351",
   "metadata": {},
   "outputs": [
    {
     "name": "stdout",
     "output_type": "stream",
     "text": [
      "[20, 80]\n"
     ]
    }
   ],
   "source": [
    "def find_common_elements(ar1, ar2, ar3):\n",
    "    i, j, k = 0, 0, 0\n",
    "    common_elements = []\n",
    "\n",
    "    while i < len(ar1) and j < len(ar2) and k < len(ar3):\n",
    "        if ar1[i] == ar2[j] == ar3[k]:\n",
    "            common_elements.append(ar1[i])\n",
    "            i += 1\n",
    "            j += 1\n",
    "            k += 1\n",
    "        elif ar1[i] < ar2[j]:\n",
    "            i += 1\n",
    "        elif ar2[j] < ar3[k]:\n",
    "            j += 1\n",
    "        else:\n",
    "            k += 1\n",
    "\n",
    "    return common_elements\n",
    "\n",
    "\n",
    "# Test the function\n",
    "ar1 = [1, 5, 10, 20, 40, 80]\n",
    "ar2 = [6, 7, 20, 80, 100]\n",
    "ar3 = [3, 4, 15, 20, 30, 70, 80, 120]\n",
    "output = find_common_elements(ar1, ar2, ar3)\n",
    "print(output)  # Output: [20, 80]\n"
   ]
  },
  {
   "cell_type": "code",
   "execution_count": null,
   "id": "8e6ff740-3a98-435e-9cd1-5de6ea603511",
   "metadata": {},
   "outputs": [],
   "source": []
  }
 ],
 "metadata": {
  "kernelspec": {
   "display_name": "Python 3 (ipykernel)",
   "language": "python",
   "name": "python3"
  },
  "language_info": {
   "codemirror_mode": {
    "name": "ipython",
    "version": 3
   },
   "file_extension": ".py",
   "mimetype": "text/x-python",
   "name": "python",
   "nbconvert_exporter": "python",
   "pygments_lexer": "ipython3",
   "version": "3.10.6"
  }
 },
 "nbformat": 4,
 "nbformat_minor": 5
}
