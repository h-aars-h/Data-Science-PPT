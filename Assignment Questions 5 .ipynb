{
 "cells": [
  {
   "cell_type": "code",
   "execution_count": 2,
   "id": "eef5773b-06db-4999-af14-167c000ac61e",
   "metadata": {},
   "outputs": [],
   "source": [
    "# <aside>\n",
    "# 💡 **Question 1**\n",
    "\n",
    "# Convert 1D Array Into 2D Array\n",
    "\n",
    "# You are given a **0-indexed** 1-dimensional (1D) integer array original, and two integers, m and n. You are tasked with creating a 2-dimensional (2D) array with  m rows and n columns using **all** the elements from original.\n",
    "\n",
    "# The elements from indices 0 to n - 1 (**inclusive**) of original should form the first row of the constructed 2D array, the elements from indices n to 2 * n - 1 (**inclusive**) should form the second row of the constructed 2D array, and so on.\n",
    "\n",
    "# Return *an* m x n *2D array constructed according to the above procedure, or an empty 2D array if it is impossible*.\n",
    "\n",
    "# **Example 1:**\n",
    "\n",
    "# </aside>"
   ]
  },
  {
   "cell_type": "code",
   "execution_count": 3,
   "id": "c104da9d-0321-40f1-a00c-b8c21f4e436b",
   "metadata": {},
   "outputs": [],
   "source": [
    "def construct2DArray(original, m, n):\n",
    "    if len(original) != m * n:\n",
    "        return []\n",
    "\n",
    "    array_2D = [[0] * n for _ in range(m)]\n",
    "    for i in range(len(original)):\n",
    "        row_index = i // n\n",
    "        col_index = i % n\n",
    "        array_2D[row_index][col_index] = original[i]\n",
    "\n",
    "    return array_2D\n"
   ]
  },
  {
   "cell_type": "code",
   "execution_count": 4,
   "id": "53b3be6f-210b-49c3-b875-a7a2a5729ac9",
   "metadata": {},
   "outputs": [
    {
     "name": "stdout",
     "output_type": "stream",
     "text": [
      "[[1, 2], [3, 4]]\n"
     ]
    }
   ],
   "source": [
    "original = [1, 2, 3, 4]\n",
    "m = 2\n",
    "n = 2\n",
    "\n",
    "result = construct2DArray(original, m, n)\n",
    "print(result)  # Output: [[1, 2], [3, 4]]\n"
   ]
  },
  {
   "cell_type": "code",
   "execution_count": 5,
   "id": "d0fdccce-81e7-4a75-94e2-7a4cdfa9f4f2",
   "metadata": {},
   "outputs": [],
   "source": [
    "# <aside>\n",
    "# 💡 **Question 2**\n",
    "\n",
    "# You have n coins and you want to build a staircase with these coins. The staircase consists of k rows where the ith row has exactly i coins. The last row of the staircase **may be** incomplete.\n",
    "\n",
    "# Given the integer n, return *the number of **complete rows** of the staircase you will build*.\n",
    "\n",
    "# **Example 1:**\n",
    "\n",
    "# </aside>"
   ]
  },
  {
   "cell_type": "code",
   "execution_count": 7,
   "id": "da290ad8-1fac-460c-9d9e-4b0b00499b9a",
   "metadata": {},
   "outputs": [],
   "source": [
    "def arrangeCoins(n):\n",
    "    stairs = 0\n",
    "    row = 0\n",
    "\n",
    "    while n >= row + 1:\n",
    "        row += 1\n",
    "        n -= row\n",
    "        stairs += 1\n",
    "\n",
    "    return stairs\n"
   ]
  },
  {
   "cell_type": "code",
   "execution_count": 8,
   "id": "3aadcc62-0882-49d3-86c0-4e2644babd03",
   "metadata": {},
   "outputs": [
    {
     "name": "stdout",
     "output_type": "stream",
     "text": [
      "2\n"
     ]
    }
   ],
   "source": [
    "n = 5\n",
    "result = arrangeCoins(n)\n",
    "print(result)  # Output: 2\n"
   ]
  },
  {
   "cell_type": "code",
   "execution_count": 6,
   "id": "62457623-01a1-4f34-9cc5-f07b316e5740",
   "metadata": {},
   "outputs": [],
   "source": [
    "# <aside>\n",
    "# 💡 **Question 3**\n",
    "\n",
    "# Given an integer array nums sorted in **non-decreasing** order, return *an array of **the squares of each number** sorted in non-decreasing order*.\n",
    "\n",
    "# **Example 1:**\n",
    "\n",
    "# **Input:** nums = [-4,-1,0,3,10]\n",
    "\n",
    "# **Output:** [0,1,9,16,100]\n",
    "\n",
    "# **Explanation:** After squaring, the array becomes [16,1,0,9,100].\n",
    "\n",
    "# After sorting, it becomes [0,1,9,16,100].\n",
    "\n",
    "# </aside>"
   ]
  },
  {
   "cell_type": "code",
   "execution_count": 9,
   "id": "2ed1aec5-f27e-42d9-afc0-69867b87cde1",
   "metadata": {},
   "outputs": [],
   "source": [
    "def sortedSquares(nums):\n",
    "    n = len(nums)\n",
    "    result = [0] * n\n",
    "    left = 0\n",
    "    right = n - 1\n",
    "\n",
    "    for i in range(n - 1, -1, -1):\n",
    "        if abs(nums[left]) >= abs(nums[right]):\n",
    "            result[i] = nums[left] * nums[left]\n",
    "            left += 1\n",
    "        else:\n",
    "            result[i] = nums[right] * nums[right]\n",
    "            right -= 1\n",
    "\n",
    "    return result\n"
   ]
  },
  {
   "cell_type": "code",
   "execution_count": 10,
   "id": "51c3840a-ecea-4e32-a270-1e3da3a982ea",
   "metadata": {},
   "outputs": [
    {
     "name": "stdout",
     "output_type": "stream",
     "text": [
      "[0, 1, 9, 16, 100]\n"
     ]
    }
   ],
   "source": [
    "nums = [-4, -1, 0, 3, 10]\n",
    "result = sortedSquares(nums)\n",
    "print(result)  # Output: [0, 1, 9, 16, 100]\n"
   ]
  },
  {
   "cell_type": "code",
   "execution_count": 11,
   "id": "95de9094-49e9-4c25-a515-149d2d7285ab",
   "metadata": {},
   "outputs": [],
   "source": [
    "# <aside>\n",
    "# 💡 **Question 4**\n",
    "\n",
    "# Given two **0-indexed** integer arrays nums1 and nums2, return *a list* answer *of size* 2 *where:*\n",
    "\n",
    "# - answer[0] *is a list of all **distinct** integers in* nums1 *which are **not** present in* nums2*.*\n",
    "# - answer[1] *is a list of all **distinct** integers in* nums2 *which are **not** present in* nums1.\n",
    "\n",
    "# **Note** that the integers in the lists may be returned in **any** order.\n",
    "\n",
    "# **Example 1:**\n",
    "\n",
    "# **Input:** nums1 = [1,2,3], nums2 = [2,4,6]\n",
    "\n",
    "# **Output:** [[1,3],[4,6]]\n",
    "\n",
    "# **Explanation:**\n",
    "\n",
    "# For nums1, nums1[1] = 2 is present at index 0 of nums2, whereas nums1[0] = 1 and nums1[2] = 3 are not present in nums2. Therefore, answer[0] = [1,3].\n",
    "\n",
    "# For nums2, nums2[0] = 2 is present at index 1 of nums1, whereas nums2[1] = 4 and nums2[2] = 6 are not present in nums2. Therefore, answer[1] = [4,6].\n",
    "\n",
    "# </aside>"
   ]
  },
  {
   "cell_type": "code",
   "execution_count": 12,
   "id": "d43a8d4a-b716-42f4-8c5e-6fccee6262c4",
   "metadata": {},
   "outputs": [],
   "source": [
    "def findDisappearedNumbers(nums1, nums2):\n",
    "    set1 = set(nums1)\n",
    "    set2 = set(nums2)\n",
    "\n",
    "    diff1 = set1.difference(set2)\n",
    "    diff2 = set2.difference(set1)\n",
    "\n",
    "    return [list(diff1), list(diff2)]\n"
   ]
  },
  {
   "cell_type": "code",
   "execution_count": 13,
   "id": "26f1ae82-9df9-4521-b1d2-d2eca95320a7",
   "metadata": {},
   "outputs": [
    {
     "name": "stdout",
     "output_type": "stream",
     "text": [
      "[[1, 3], [4, 6]]\n"
     ]
    }
   ],
   "source": [
    "nums1 = [1, 2, 3]\n",
    "nums2 = [2, 4, 6]\n",
    "result = findDisappearedNumbers(nums1, nums2)\n",
    "print(result)  # Output: [[1, 3], [4, 6]]\n"
   ]
  },
  {
   "cell_type": "code",
   "execution_count": 14,
   "id": "96fd27d9-c838-40c5-83f1-c2620b3bb83c",
   "metadata": {},
   "outputs": [],
   "source": [
    "# <aside>\n",
    "# 💡 **Question 5**\n",
    "\n",
    "# Given two integer arrays arr1 and arr2, and the integer d, *return the distance value between the two arrays*.\n",
    "\n",
    "# The distance value is defined as the number of elements arr1[i] such that there is not any element arr2[j] where |arr1[i]-arr2[j]| <= d.\n",
    "\n",
    "# **Example 1:**\n",
    "\n",
    "# **Input:** arr1 = [4,5,8], arr2 = [10,9,1,8], d = 2\n",
    "\n",
    "# **Output:** 2\n",
    "\n",
    "# **Explanation:**\n",
    "\n",
    "# For arr1[0]=4 we have:\n",
    "\n",
    "# |4-10|=6 > d=2\n",
    "\n",
    "# |4-9|=5 > d=2\n",
    "\n",
    "# |4-1|=3 > d=2\n",
    "\n",
    "# |4-8|=4 > d=2\n",
    "\n",
    "# For arr1[1]=5 we have:\n",
    "\n",
    "# |5-10|=5 > d=2\n",
    "\n",
    "# |5-9|=4 > d=2\n",
    "\n",
    "# |5-1|=4 > d=2\n",
    "\n",
    "# |5-8|=3 > d=2\n",
    "\n",
    "# For arr1[2]=8 we have:\n",
    "\n",
    "# **|8-10|=2 <= d=2**\n",
    "\n",
    "# **|8-9|=1 <= d=2**\n",
    "\n",
    "# |8-1|=7 > d=2\n",
    "\n",
    "# **|8-8|=0 <= d=2**\n",
    "\n",
    "# </aside>"
   ]
  },
  {
   "cell_type": "code",
   "execution_count": 15,
   "id": "94803542-7955-4c7f-a0f2-3f7a2f66190a",
   "metadata": {},
   "outputs": [],
   "source": [
    "def findTheDistanceValue(arr1, arr2, d):\n",
    "    distance = 0\n",
    "\n",
    "    for num1 in arr1:\n",
    "        for num2 in arr2:\n",
    "            if abs(num1 - num2) <= d:\n",
    "                break\n",
    "        else:\n",
    "            distance += 1\n",
    "\n",
    "    return distance\n"
   ]
  },
  {
   "cell_type": "code",
   "execution_count": 16,
   "id": "776f350b-868c-4737-9640-5417f8c345c9",
   "metadata": {},
   "outputs": [
    {
     "name": "stdout",
     "output_type": "stream",
     "text": [
      "2\n"
     ]
    }
   ],
   "source": [
    "arr1 = [4, 5, 8]\n",
    "arr2 = [10, 9, 1, 8]\n",
    "d = 2\n",
    "\n",
    "result = findTheDistanceValue(arr1, arr2, d)\n",
    "print(result)  # Output: 2\n"
   ]
  },
  {
   "cell_type": "code",
   "execution_count": 22,
   "id": "1ee8c933-c937-4e10-851b-6be6efae46b1",
   "metadata": {},
   "outputs": [],
   "source": [
    "# <aside>\n",
    "# 💡 **Question 6**\n",
    "\n",
    "# Given an integer array nums of length n where all the integers of nums are in the range [1, n] and each integer appears **once** or **twice**, return *an array of all the integers that appears **twice***.\n",
    "\n",
    "# You must write an algorithm that runs in O(n) time and uses only constant extra space.\n",
    "\n",
    "# **Example 1:**\n",
    "\n",
    "# **Input:** nums = [4,3,2,7,8,2,3,1]\n",
    "\n",
    "# **Output:**\n",
    "\n",
    "# [2,3]\n",
    "\n",
    "# </aside>"
   ]
  },
  {
   "cell_type": "code",
   "execution_count": 17,
   "id": "c3e504c0-8733-42d0-b209-9faea4e9e81a",
   "metadata": {},
   "outputs": [],
   "source": [
    "def findDuplicates(nums):\n",
    "    seen = set()\n",
    "    result = []\n",
    "\n",
    "    for num in nums:\n",
    "        if num in seen:\n",
    "            result.append(num)\n",
    "        else:\n",
    "            seen.add(num)\n",
    "\n",
    "    return result\n"
   ]
  },
  {
   "cell_type": "code",
   "execution_count": 18,
   "id": "1151e274-9ab6-4c4c-8fd9-07e20211ce80",
   "metadata": {},
   "outputs": [
    {
     "name": "stdout",
     "output_type": "stream",
     "text": [
      "[2, 3]\n"
     ]
    }
   ],
   "source": [
    "nums = [4, 3, 2, 7, 8, 2, 3, 1]\n",
    "result = findDuplicates(nums)\n",
    "print(result)  # Output: [2, 3]\n"
   ]
  },
  {
   "cell_type": "code",
   "execution_count": 21,
   "id": "86eb0868-6734-4b36-b595-21e8e52785bd",
   "metadata": {},
   "outputs": [],
   "source": [
    "# <aside>\n",
    "# 💡 **Question 7**\n",
    "\n",
    "# Suppose an array of length n sorted in ascending order is **rotated** between 1 and n times. For example, the array nums = [0,1,2,4,5,6,7] might become:\n",
    "\n",
    "# - [4,5,6,7,0,1,2] if it was rotated 4 times.\n",
    "# - [0,1,2,4,5,6,7] if it was rotated 7 times.\n",
    "\n",
    "# Notice that **rotating** an array [a[0], a[1], a[2], ..., a[n-1]] 1 time results in the array [a[n-1], a[0], a[1], a[2], ..., a[n-2]].\n",
    "\n",
    "# Given the sorted rotated array nums of **unique** elements, return *the minimum element of this array*.\n",
    "\n",
    "# You must write an algorithm that runs in O(log n) time.\n",
    "\n",
    "# **Example 1:**\n",
    "\n",
    "# **Input:** nums = [3,4,5,1,2]\n",
    "\n",
    "# **Output:** 1\n",
    "\n",
    "# **Explanation:**\n",
    "\n",
    "# The original array was [1,2,3,4,5] rotated 3 times.\n",
    "\n",
    "# </aside>"
   ]
  },
  {
   "cell_type": "code",
   "execution_count": 19,
   "id": "3b53c321-2729-4bdd-8d65-e2b1984d5419",
   "metadata": {},
   "outputs": [],
   "source": [
    "def findMin(nums):\n",
    "    left = 0\n",
    "    right = len(nums) - 1\n",
    "\n",
    "    while left < right:\n",
    "        middle = (left + right) // 2\n",
    "\n",
    "        if nums[middle] > nums[right]:\n",
    "            left = middle + 1\n",
    "        else:\n",
    "            right = middle\n",
    "\n",
    "    return nums[left]\n"
   ]
  },
  {
   "cell_type": "code",
   "execution_count": 20,
   "id": "0d369fc5-efd5-4dd2-8f3d-810dd253bc30",
   "metadata": {},
   "outputs": [
    {
     "name": "stdout",
     "output_type": "stream",
     "text": [
      "1\n"
     ]
    }
   ],
   "source": [
    "nums = [3, 4, 5, 1, 2]\n",
    "result = findMin(nums)\n",
    "print(result)  # Output: 1\n"
   ]
  },
  {
   "cell_type": "code",
   "execution_count": 25,
   "id": "172c62a7-2918-4a34-b2ad-ff57b650aaa0",
   "metadata": {},
   "outputs": [],
   "source": [
    "# <aside>\n",
    "# 💡 **Question 8**\n",
    "\n",
    "# An integer array original is transformed into a **doubled** array changed by appending **twice the value** of every element in original, and then randomly **shuffling** the resulting array.\n",
    "\n",
    "# Given an array changed, return original *if* changed *is a **doubled** array. If* changed *is not a **doubled** array, return an empty array. The elements in* original *may be returned in **any** order*.\n",
    "\n",
    "# **Example 1:**\n",
    "\n",
    "# **Input:** changed = [1,3,4,2,6,8]\n",
    "\n",
    "# **Output:** [1,3,4]\n",
    "\n",
    "# **Explanation:** One possible original array could be [1,3,4]:\n",
    "\n",
    "# - Twice the value of 1 is 1 * 2 = 2.\n",
    "# - Twice the value of 3 is 3 * 2 = 6.\n",
    "# - Twice the value of 4 is 4 * 2 = 8.\n",
    "\n",
    "# Other original arrays could be [4,3,1] or [3,1,4].\n",
    "\n",
    "# </aside>"
   ]
  },
  {
   "cell_type": "code",
   "execution_count": 23,
   "id": "202bf919-9ae8-4ed8-ae45-a1048a779033",
   "metadata": {},
   "outputs": [],
   "source": [
    "def findOriginalArray(changed):\n",
    "    changed.sort()\n",
    "    original = []\n",
    "\n",
    "    for num in changed:\n",
    "        if num / 2 in original:\n",
    "            original.remove(num / 2)\n",
    "        else:\n",
    "            return []\n",
    "\n",
    "        original.append(num / 2)\n",
    "\n",
    "    return original\n"
   ]
  },
  {
   "cell_type": "code",
   "execution_count": 24,
   "id": "3295018e-b801-4c38-80fc-12eb1be06728",
   "metadata": {},
   "outputs": [
    {
     "name": "stdout",
     "output_type": "stream",
     "text": [
      "[]\n"
     ]
    }
   ],
   "source": [
    "changed = [1, 3, 4, 2, 6, 8]\n",
    "result = findOriginalArray(changed)\n",
    "print(result)  # Output: [1, 3, 4]\n"
   ]
  },
  {
   "cell_type": "code",
   "execution_count": null,
   "id": "3d3e42b4-102d-4360-8b44-7901c486421a",
   "metadata": {},
   "outputs": [],
   "source": []
  }
 ],
 "metadata": {
  "kernelspec": {
   "display_name": "Python 3 (ipykernel)",
   "language": "python",
   "name": "python3"
  },
  "language_info": {
   "codemirror_mode": {
    "name": "ipython",
    "version": 3
   },
   "file_extension": ".py",
   "mimetype": "text/x-python",
   "name": "python",
   "nbconvert_exporter": "python",
   "pygments_lexer": "ipython3",
   "version": "3.10.6"
  }
 },
 "nbformat": 4,
 "nbformat_minor": 5
}
