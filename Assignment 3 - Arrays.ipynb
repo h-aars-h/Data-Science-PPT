{
 "cells": [
  {
   "cell_type": "code",
   "execution_count": 1,
   "id": "2016c07e-dbc6-4845-abcb-8f2d2e30adcf",
   "metadata": {},
   "outputs": [],
   "source": [
    "# Question 1\n",
    "# Given an integer array nums of length n and an integer target, find three integers\n",
    "# in nums such that the sum is closest to the target.\n",
    "# Return the sum of the three integers.\n",
    "\n",
    "# You may assume that each input would have exactly one solution.\n",
    "\n",
    "# Example 1:\n",
    "# Input: nums = [-1,2,1,-4], target = 1\n",
    "# Output: 2\n",
    "\n",
    "# Explanation: The sum that is closest to the target is 2. (-1 + 2 + 1 = 2)."
   ]
  },
  {
   "cell_type": "code",
   "execution_count": 2,
   "id": "aee8bbbb-16f7-46be-9dc5-deeae66d455b",
   "metadata": {},
   "outputs": [],
   "source": [
    "def threeSumClosest(nums, target):\n",
    "    nums.sort()\n",
    "    n = len(nums)\n",
    "    closestSum = float('inf')\n",
    "\n",
    "    for i in range(n - 2):\n",
    "        left = i + 1\n",
    "        right = n - 1\n",
    "        while left < right:\n",
    "            currSum = nums[i] + nums[left] + nums[right]\n",
    "            if currSum == target:\n",
    "                return target\n",
    "            if abs(currSum - target) < abs(closestSum - target):\n",
    "                closestSum = currSum\n",
    "            if currSum < target:\n",
    "                left += 1\n",
    "            else:\n",
    "                right -= 1\n",
    "\n",
    "    return closestSum\n"
   ]
  },
  {
   "cell_type": "code",
   "execution_count": 3,
   "id": "dc3f453e-94a5-4602-9100-fc68e0afcdee",
   "metadata": {},
   "outputs": [
    {
     "name": "stdout",
     "output_type": "stream",
     "text": [
      "2\n"
     ]
    }
   ],
   "source": [
    "nums = [-1, 2, 1, -4]\n",
    "target = 1\n",
    "\n",
    "result = threeSumClosest(nums, target)\n",
    "print(result)  # Output: 2\n"
   ]
  },
  {
   "cell_type": "code",
   "execution_count": 4,
   "id": "1804aa31-9fd8-4dbe-86a6-9cbe75fa814b",
   "metadata": {},
   "outputs": [],
   "source": [
    "# Question 2\n",
    "# Given an array nums of n integers, return an array of all the unique quadruplets\n",
    "# [nums[a], nums[b], nums[c], nums[d]] such that:\n",
    "#            ● 0 <= a, b, c, d < n\n",
    "#            ● a, b, c, and d are distinct.\n",
    "#            ● nums[a] + nums[b] + nums[c] + nums[d] == target\n",
    "\n",
    "# You may return the answer in any order.\n",
    "\n",
    "# Example 1:\n",
    "# Input: nums = [1,0,-1,0,-2,2], target = 0\n",
    "# Output: [[-2,-1,1,2],[-2,0,0,2],[-1,0,0,1]]"
   ]
  },
  {
   "cell_type": "code",
   "execution_count": 5,
   "id": "81133c7c-e173-4b79-a20e-ed3b1d8497d0",
   "metadata": {},
   "outputs": [],
   "source": [
    "def fourSum(nums, target):\n",
    "    nums.sort()\n",
    "    n = len(nums)\n",
    "    result = []\n",
    "\n",
    "    for a in range(n - 3):\n",
    "        if a > 0 and nums[a] == nums[a - 1]:\n",
    "            continue\n",
    "\n",
    "        for b in range(a + 1, n - 2):\n",
    "            if b > a + 1 and nums[b] == nums[b - 1]:\n",
    "                continue\n",
    "\n",
    "            left = b + 1\n",
    "            right = n - 1\n",
    "\n",
    "            while left < right:\n",
    "                currSum = nums[a] + nums[b] + nums[left] + nums[right]\n",
    "                if currSum == target:\n",
    "                    result.append([nums[a], nums[b], nums[left], nums[right]])\n",
    "                    left += 1\n",
    "                    right -= 1\n",
    "                    while left < right and nums[left] == nums[left - 1]:\n",
    "                        left += 1\n",
    "                    while left < right and nums[right] == nums[right + 1]:\n",
    "                        right -= 1\n",
    "                elif currSum < target:\n",
    "                    left += 1\n",
    "                else:\n",
    "                    right -= 1\n",
    "\n",
    "    return result\n"
   ]
  },
  {
   "cell_type": "code",
   "execution_count": 6,
   "id": "4c2c244e-bc68-4375-8783-ede74e8ca9f3",
   "metadata": {},
   "outputs": [
    {
     "name": "stdout",
     "output_type": "stream",
     "text": [
      "[[-2, -1, 1, 2], [-2, 0, 0, 2], [-1, 0, 0, 1]]\n"
     ]
    }
   ],
   "source": [
    "nums = [1, 0, -1, 0, -2, 2]\n",
    "target = 0\n",
    "\n",
    "result = fourSum(nums, target)\n",
    "print(result)  # Output: [[-2, -1, 1, 2], [-2, 0, 0, 2], [-1, 0, 0, 1]]\n"
   ]
  },
  {
   "cell_type": "code",
   "execution_count": 7,
   "id": "5e60aed4-29e6-4723-bec4-dca8828e0457",
   "metadata": {},
   "outputs": [],
   "source": [
    "# <aside>\n",
    "# 💡 **Question 3**\n",
    "# A permutation of an array of integers is an arrangement of its members into a\n",
    "# sequence or linear order.\n",
    "\n",
    "# For example, for arr = [1,2,3], the following are all the permutations of arr:\n",
    "# [1,2,3], [1,3,2], [2, 1, 3], [2, 3, 1], [3,1,2], [3,2,1].\n",
    "\n",
    "# The next permutation of an array of integers is the next lexicographically greater\n",
    "# permutation of its integer. More formally, if all the permutations of the array are\n",
    "# sorted in one container according to their lexicographical order, then the next\n",
    "# permutation of that array is the permutation that follows it in the sorted container.\n",
    "\n",
    "# If such an arrangement is not possible, the array must be rearranged as the\n",
    "# lowest possible order (i.e., sorted in ascending order).\n",
    "\n",
    "# ● For example, the next permutation of arr = [1,2,3] is [1,3,2].\n",
    "# ● Similarly, the next permutation of arr = [2,3,1] is [3,1,2].\n",
    "# ● While the next permutation of arr = [3,2,1] is [1,2,3] because [3,2,1] does not\n",
    "# have a lexicographical larger rearrangement.\n",
    "\n",
    "# Given an array of integers nums, find the next permutation of nums.\n",
    "# The replacement must be in place and use only constant extra memory.\n",
    "\n",
    "# **Example 1:**\n",
    "# Input: nums = [1,2,3]\n",
    "# Output: [1,3,2]\n",
    "\n",
    "# </aside>"
   ]
  },
  {
   "cell_type": "code",
   "execution_count": 8,
   "id": "99a46400-d3ab-4dc8-9daa-455775c658e3",
   "metadata": {},
   "outputs": [],
   "source": [
    "def nextPermutation(nums):\n",
    "    n = len(nums)\n",
    "    i = n - 2\n",
    "\n",
    "    # Find the first decreasing element from the right\n",
    "    while i >= 0 and nums[i] >= nums[i + 1]:\n",
    "        i -= 1\n",
    "\n",
    "    if i >= 0:\n",
    "        # Find the smallest element greater than nums[i]\n",
    "        j = n - 1\n",
    "        while j > i and nums[j] <= nums[i]:\n",
    "            j -= 1\n",
    "        # Swap nums[i] and nums[j]\n",
    "        nums[i], nums[j] = nums[j], nums[i]\n",
    "\n",
    "    # Reverse the subarray nums[i+1:]\n",
    "    left = i + 1\n",
    "    right = n - 1\n",
    "    while left < right:\n",
    "        nums[left], nums[right] = nums[right], nums[left]\n",
    "        left += 1\n",
    "        right -= 1\n",
    "\n",
    "    return nums\n"
   ]
  },
  {
   "cell_type": "code",
   "execution_count": 9,
   "id": "057efb5c-ff08-4148-8879-e298cf729de0",
   "metadata": {},
   "outputs": [
    {
     "name": "stdout",
     "output_type": "stream",
     "text": [
      "[1, 3, 2]\n"
     ]
    }
   ],
   "source": [
    "nums = [1, 2, 3]\n",
    "result = nextPermutation(nums)\n",
    "print(result)  # Output: [1, 3, 2]\n"
   ]
  },
  {
   "cell_type": "code",
   "execution_count": 10,
   "id": "d7eea082-c629-46c5-9cff-b6aa2afadad9",
   "metadata": {},
   "outputs": [],
   "source": [
    "# Question 4\n",
    "# Given a sorted array of distinct integers and a target value, return the index if the\n",
    "# target is found. If not, return the index where it would be if it were inserted in\n",
    "# order.\n",
    "\n",
    "# You must write an algorithm with O(log n) runtime complexity.\n",
    "\n",
    "# Example 1:\n",
    "# Input: nums = [1,3,5,6], target = 5\n",
    "# Output: 2"
   ]
  },
  {
   "cell_type": "code",
   "execution_count": 11,
   "id": "6b1202d2-4427-439f-835d-2d8826c7046a",
   "metadata": {},
   "outputs": [],
   "source": [
    "def searchInsert(nums, target):\n",
    "    left = 0\n",
    "    right = len(nums) - 1\n",
    "\n",
    "    while left <= right:\n",
    "        middle = (left + right) // 2\n",
    "        if nums[middle] < target:\n",
    "            left = middle + 1\n",
    "        else:\n",
    "            right = middle - 1\n",
    "\n",
    "    return left\n"
   ]
  },
  {
   "cell_type": "code",
   "execution_count": 12,
   "id": "123ae7b1-d2ad-4ab0-867e-34fcc14c8e74",
   "metadata": {},
   "outputs": [
    {
     "name": "stdout",
     "output_type": "stream",
     "text": [
      "2\n"
     ]
    }
   ],
   "source": [
    "nums = [1, 3, 5, 6]\n",
    "target = 5\n",
    "result = searchInsert(nums, target)\n",
    "print(result)  # Output: 2\n"
   ]
  },
  {
   "cell_type": "code",
   "execution_count": 13,
   "id": "69c0c1c1-59dc-441f-9c89-c730b26aa6ee",
   "metadata": {},
   "outputs": [],
   "source": [
    "# <aside>\n",
    "# 💡 **Question 5**\n",
    "# You are given a large integer represented as an integer array digits, where each\n",
    "# digits[i] is the ith digit of the integer. The digits are ordered from most significant\n",
    "# to least significant in left-to-right order. The large integer does not contain any\n",
    "# leading 0's.\n",
    "\n",
    "# Increment the large integer by one and return the resulting array of digits.\n",
    "\n",
    "# **Example 1:**\n",
    "# Input: digits = [1,2,3]\n",
    "# Output: [1,2,4]\n",
    "\n",
    "# **Explanation:** The array represents the integer 123.\n",
    "# Incrementing by one gives 123 + 1 = 124.\n",
    "# Thus, the result should be [1,2,4].\n",
    "\n",
    "# </aside>"
   ]
  },
  {
   "cell_type": "code",
   "execution_count": 14,
   "id": "9385853e-6bf4-420d-a666-dca5aab41074",
   "metadata": {},
   "outputs": [],
   "source": [
    "def plusOne(digits):\n",
    "    n = len(digits)\n",
    "    carry = 1\n",
    "\n",
    "    for i in range(n - 1, -1, -1):\n",
    "        if digits[i] + carry <= 9:\n",
    "            digits[i] += carry\n",
    "            return digits\n",
    "        else:\n",
    "            digits[i] = 0\n",
    "            carry = 1\n",
    "\n",
    "    if carry == 1:\n",
    "        digits.insert(0, 1)\n",
    "\n",
    "    return digits\n"
   ]
  },
  {
   "cell_type": "code",
   "execution_count": 15,
   "id": "ee3c1b83-85ba-4209-9183-6bde0667becf",
   "metadata": {},
   "outputs": [
    {
     "name": "stdout",
     "output_type": "stream",
     "text": [
      "[1, 2, 4]\n"
     ]
    }
   ],
   "source": [
    "digits = [1, 2, 3]\n",
    "result = plusOne(digits)\n",
    "print(result)  # Output: [1, 2, 4]\n"
   ]
  },
  {
   "cell_type": "code",
   "execution_count": 16,
   "id": "a0133c4d-8c08-4c0f-a838-fb684636145b",
   "metadata": {},
   "outputs": [],
   "source": [
    "# Question 6\n",
    "# Given a non-empty array of integers nums, every element appears twice except\n",
    "# for one. Find that single one.\n",
    "\n",
    "# You must implement a solution with a linear runtime complexity and use only\n",
    "# constant extra space.\n",
    "\n",
    "# Example 1:\n",
    "# Input: nums = [2,2,1]\n",
    "# Output: 1"
   ]
  },
  {
   "cell_type": "code",
   "execution_count": 17,
   "id": "dc9ca065-c142-4ab5-9ee1-f299013b7b86",
   "metadata": {},
   "outputs": [],
   "source": [
    "def singleNumber(nums):\n",
    "    single = 0\n",
    "    for num in nums:\n",
    "        single ^= num\n",
    "    return single\n"
   ]
  },
  {
   "cell_type": "code",
   "execution_count": 18,
   "id": "ac2f5610-281f-4828-a93b-206c42308057",
   "metadata": {},
   "outputs": [
    {
     "name": "stdout",
     "output_type": "stream",
     "text": [
      "1\n"
     ]
    }
   ],
   "source": [
    "nums = [2, 2, 1]\n",
    "result = singleNumber(nums)\n",
    "print(result)  # Output: 1\n"
   ]
  },
  {
   "cell_type": "code",
   "execution_count": 19,
   "id": "3a5a8cc1-12e5-4886-9def-21e6fadfc88f",
   "metadata": {},
   "outputs": [],
   "source": [
    "# Question 7\n",
    "# You are given an inclusive range [lower, upper] and a sorted unique integer array\n",
    "# nums, where all elements are within the inclusive range.\n",
    "\n",
    "# A number x is considered missing if x is in the range [lower, upper] and x is not in\n",
    "# nums.\n",
    "\n",
    "# Return the shortest sorted list of ranges that exactly covers all the missing\n",
    "# numbers. That is, no element of nums is included in any of the ranges, and each\n",
    "# missing number is covered by one of the ranges.\n",
    "\n",
    "# Example 1:\n",
    "# Input: nums = [0,1,3,50,75], lower = 0, upper = 99\n",
    "# Output: [[2,2],[4,49],[51,74],[76,99]]\n",
    "\n",
    "# Explanation: The ranges are:\n",
    "# [2,2]\n",
    "# [4,49]\n",
    "# [51,74]\n",
    "# [76,99]"
   ]
  },
  {
   "cell_type": "code",
   "execution_count": 20,
   "id": "959f27fb-a741-450f-af91-a1b55a78c949",
   "metadata": {},
   "outputs": [],
   "source": [
    "def findMissingRanges(nums, lower, upper):\n",
    "    result = []\n",
    "    nums = [lower - 1] + nums + [upper + 1]\n",
    "\n",
    "    for i in range(1, len(nums)):\n",
    "        if nums[i] > nums[i - 1] + 1:\n",
    "            result.append(getRange(nums[i - 1] + 1, nums[i] - 1))\n",
    "\n",
    "    return result\n",
    "\n",
    "\n",
    "def getRange(start, end):\n",
    "    if start == end:\n",
    "        return str(start)\n",
    "    else:\n",
    "        return str(start) + \"->\" + str(end)\n"
   ]
  },
  {
   "cell_type": "code",
   "execution_count": 21,
   "id": "7240291b-ee02-4010-8d89-e3ad951b7413",
   "metadata": {},
   "outputs": [
    {
     "name": "stdout",
     "output_type": "stream",
     "text": [
      "['2', '4->49', '51->74', '76->99']\n"
     ]
    }
   ],
   "source": [
    "nums = [0, 1, 3, 50, 75]\n",
    "lower = 0\n",
    "upper = 99\n",
    "\n",
    "result = findMissingRanges(nums, lower, upper)\n",
    "print(result)  # Output: [['2', '2'], ['4', '49'], ['51', '74'], ['76', '99']]\n"
   ]
  },
  {
   "cell_type": "code",
   "execution_count": 22,
   "id": "f5b2ffc2-2b61-48c1-9e6a-6b9c67f8c5e5",
   "metadata": {},
   "outputs": [
    {
     "ename": "SyntaxError",
     "evalue": "invalid syntax (862671939.py, line 1)",
     "output_type": "error",
     "traceback": [
      "\u001b[0;36m  Cell \u001b[0;32mIn [22], line 1\u001b[0;36m\u001b[0m\n\u001b[0;31m    Question 8\u001b[0m\n\u001b[0m             ^\u001b[0m\n\u001b[0;31mSyntaxError\u001b[0m\u001b[0;31m:\u001b[0m invalid syntax\n"
     ]
    }
   ],
   "source": [
    "Question 8\n",
    "Given an array of meeting time intervals where intervals[i] = [starti, endi],\n",
    "determine if a person could attend all meetings.\n",
    "\n",
    "Example 1:\n",
    "Input: intervals = [[0,30],[5,10],[15,20]]\n",
    "Output: false"
   ]
  },
  {
   "cell_type": "code",
   "execution_count": null,
   "id": "cab9bc88-02f1-46a4-93e5-f22268998825",
   "metadata": {},
   "outputs": [],
   "source": []
  }
 ],
 "metadata": {
  "kernelspec": {
   "display_name": "Python 3 (ipykernel)",
   "language": "python",
   "name": "python3"
  },
  "language_info": {
   "codemirror_mode": {
    "name": "ipython",
    "version": 3
   },
   "file_extension": ".py",
   "mimetype": "text/x-python",
   "name": "python",
   "nbconvert_exporter": "python",
   "pygments_lexer": "ipython3",
   "version": "3.10.6"
  }
 },
 "nbformat": 4,
 "nbformat_minor": 5
}
